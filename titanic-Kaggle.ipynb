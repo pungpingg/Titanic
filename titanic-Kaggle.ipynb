{
 "cells": [
  {
   "cell_type": "code",
   "execution_count": 1,
   "id": "cf3d1a6c",
   "metadata": {
    "_cell_guid": "b1076dfc-b9ad-4769-8c92-a6c4dae69d19",
    "_uuid": "8f2839f25d086af736a60e9eeb907d3b93b6e0e5",
    "execution": {
     "iopub.execute_input": "2023-01-31T22:35:49.817252Z",
     "iopub.status.busy": "2023-01-31T22:35:49.816152Z",
     "iopub.status.idle": "2023-01-31T22:35:51.018166Z",
     "shell.execute_reply": "2023-01-31T22:35:51.016480Z"
    },
    "papermill": {
     "duration": 1.22667,
     "end_time": "2023-01-31T22:35:51.021808",
     "exception": false,
     "start_time": "2023-01-31T22:35:49.795138",
     "status": "completed"
    },
    "tags": []
   },
   "outputs": [
    {
     "name": "stdout",
     "output_type": "stream",
     "text": [
      "/kaggle/input/titanic/train.csv\n",
      "/kaggle/input/titanic/test.csv\n",
      "/kaggle/input/titanic/gender_submission.csv\n"
     ]
    }
   ],
   "source": [
    "# This Python 3 environment comes with many helpful analytics libraries installed\n",
    "# It is defined by the kaggle/python Docker image: https://github.com/kaggle/docker-python\n",
    "# For example, here's several helpful packages to load\n",
    "\n",
    "import numpy as np # linear algebra\n",
    "import pandas as pd # data processing, CSV file I/O (e.g. pd.read_csv)\n",
    "import matplotlib.pyplot as plt\n",
    "import seaborn as sns\n",
    "\n",
    "# Input data files are available in the read-only \"../input/\" directory\n",
    "# For example, running this (by clicking run or pressing Shift+Enter) will list all files under the input directory\n",
    "\n",
    "import os\n",
    "for dirname, _, filenames in os.walk('/kaggle/input'):\n",
    "    for filename in filenames:\n",
    "        print(os.path.join(dirname, filename))\n",
    "\n",
    "# You can write up to 20GB to the current directory (/kaggle/working/) that gets preserved as output when you create a version using \"Save & Run All\" \n",
    "# You can also write temporary files to /kaggle/temp/, but they won't be saved outside of the current session"
   ]
  },
  {
   "cell_type": "markdown",
   "id": "1cd1643f",
   "metadata": {
    "papermill": {
     "duration": 0.015982,
     "end_time": "2023-01-31T22:35:51.055879",
     "exception": false,
     "start_time": "2023-01-31T22:35:51.039897",
     "status": "completed"
    },
    "tags": []
   },
   "source": [
    "**Welcome to analysis and machine learning - Titanic** <br>\n",
    "Our focus is to extract some meaningful data and to find the best model that predict the survival from Titanic\n",
    "1. Import the dataset <br>\n",
    "2. Overall data <br>\n",
    "3. Data Cleaning <br>\n",
    "4. Data Analysis <br>\n",
    "5. Data Preprocessing <br>\n",
    "6. Machine Learning <br>\n",
    "7. Summary"
   ]
  },
  {
   "cell_type": "markdown",
   "id": "f54e89ce",
   "metadata": {
    "papermill": {
     "duration": 0.016126,
     "end_time": "2023-01-31T22:35:51.088444",
     "exception": false,
     "start_time": "2023-01-31T22:35:51.072318",
     "status": "completed"
    },
    "tags": []
   },
   "source": [
    "# **1) Import the dataset (train, test, and gender information)**"
   ]
  },
  {
   "cell_type": "code",
   "execution_count": 2,
   "id": "d88ccfc0",
   "metadata": {
    "execution": {
     "iopub.execute_input": "2023-01-31T22:35:51.123780Z",
     "iopub.status.busy": "2023-01-31T22:35:51.123345Z",
     "iopub.status.idle": "2023-01-31T22:35:51.158012Z",
     "shell.execute_reply": "2023-01-31T22:35:51.156679Z"
    },
    "papermill": {
     "duration": 0.055707,
     "end_time": "2023-01-31T22:35:51.160971",
     "exception": false,
     "start_time": "2023-01-31T22:35:51.105264",
     "status": "completed"
    },
    "tags": []
   },
   "outputs": [],
   "source": [
    "train_data = pd.read_csv(\"/kaggle/input/titanic/train.csv\")\n",
    "test_data = pd.read_csv('/kaggle/input/titanic/test.csv')\n",
    "gender_data = pd.read_csv('/kaggle/input/titanic/gender_submission.csv')"
   ]
  },
  {
   "cell_type": "markdown",
   "id": "3efadd8a",
   "metadata": {
    "papermill": {
     "duration": 0.016198,
     "end_time": "2023-01-31T22:35:51.194135",
     "exception": false,
     "start_time": "2023-01-31T22:35:51.177937",
     "status": "completed"
    },
    "tags": []
   },
   "source": [
    "# **2) Overall information**"
   ]
  },
  {
   "cell_type": "code",
   "execution_count": 3,
   "id": "391a6023",
   "metadata": {
    "execution": {
     "iopub.execute_input": "2023-01-31T22:35:51.228958Z",
     "iopub.status.busy": "2023-01-31T22:35:51.228465Z",
     "iopub.status.idle": "2023-01-31T22:35:51.267235Z",
     "shell.execute_reply": "2023-01-31T22:35:51.265648Z"
    },
    "papermill": {
     "duration": 0.059522,
     "end_time": "2023-01-31T22:35:51.269995",
     "exception": false,
     "start_time": "2023-01-31T22:35:51.210473",
     "status": "completed"
    },
    "tags": []
   },
   "outputs": [
    {
     "name": "stdout",
     "output_type": "stream",
     "text": [
      "<class 'pandas.core.frame.DataFrame'>\n",
      "RangeIndex: 891 entries, 0 to 890\n",
      "Data columns (total 12 columns):\n",
      " #   Column       Non-Null Count  Dtype  \n",
      "---  ------       --------------  -----  \n",
      " 0   PassengerId  891 non-null    int64  \n",
      " 1   Survived     891 non-null    int64  \n",
      " 2   Pclass       891 non-null    int64  \n",
      " 3   Name         891 non-null    object \n",
      " 4   Sex          891 non-null    object \n",
      " 5   Age          714 non-null    float64\n",
      " 6   SibSp        891 non-null    int64  \n",
      " 7   Parch        891 non-null    int64  \n",
      " 8   Ticket       891 non-null    object \n",
      " 9   Fare         891 non-null    float64\n",
      " 10  Cabin        204 non-null    object \n",
      " 11  Embarked     889 non-null    object \n",
      "dtypes: float64(2), int64(5), object(5)\n",
      "memory usage: 83.7+ KB\n",
      "<class 'pandas.core.frame.DataFrame'>\n",
      "RangeIndex: 418 entries, 0 to 417\n",
      "Data columns (total 11 columns):\n",
      " #   Column       Non-Null Count  Dtype  \n",
      "---  ------       --------------  -----  \n",
      " 0   PassengerId  418 non-null    int64  \n",
      " 1   Pclass       418 non-null    int64  \n",
      " 2   Name         418 non-null    object \n",
      " 3   Sex          418 non-null    object \n",
      " 4   Age          332 non-null    float64\n",
      " 5   SibSp        418 non-null    int64  \n",
      " 6   Parch        418 non-null    int64  \n",
      " 7   Ticket       418 non-null    object \n",
      " 8   Fare         417 non-null    float64\n",
      " 9   Cabin        91 non-null     object \n",
      " 10  Embarked     418 non-null    object \n",
      "dtypes: float64(2), int64(4), object(5)\n",
      "memory usage: 36.0+ KB\n",
      "<class 'pandas.core.frame.DataFrame'>\n",
      "RangeIndex: 418 entries, 0 to 417\n",
      "Data columns (total 2 columns):\n",
      " #   Column       Non-Null Count  Dtype\n",
      "---  ------       --------------  -----\n",
      " 0   PassengerId  418 non-null    int64\n",
      " 1   Survived     418 non-null    int64\n",
      "dtypes: int64(2)\n",
      "memory usage: 6.7 KB\n"
     ]
    }
   ],
   "source": [
    "train_data.info()\n",
    "test_data.info()\n",
    "gender_data.info()"
   ]
  },
  {
   "cell_type": "code",
   "execution_count": 4,
   "id": "359c63fc",
   "metadata": {
    "execution": {
     "iopub.execute_input": "2023-01-31T22:35:51.304663Z",
     "iopub.status.busy": "2023-01-31T22:35:51.304215Z",
     "iopub.status.idle": "2023-01-31T22:35:51.312441Z",
     "shell.execute_reply": "2023-01-31T22:35:51.311281Z"
    },
    "papermill": {
     "duration": 0.028999,
     "end_time": "2023-01-31T22:35:51.315545",
     "exception": false,
     "start_time": "2023-01-31T22:35:51.286546",
     "status": "completed"
    },
    "tags": []
   },
   "outputs": [
    {
     "name": "stdout",
     "output_type": "stream",
     "text": [
      "Train_data_missing: 866\n",
      "Shape:  (891, 12)\n"
     ]
    }
   ],
   "source": [
    "print(\"Train_data_missing:\", train_data.isna().sum().sum())\n",
    "print(\"Shape: \", train_data.shape)"
   ]
  },
  {
   "cell_type": "code",
   "execution_count": 5,
   "id": "10ff78d0",
   "metadata": {
    "execution": {
     "iopub.execute_input": "2023-01-31T22:35:51.350637Z",
     "iopub.status.busy": "2023-01-31T22:35:51.350197Z",
     "iopub.status.idle": "2023-01-31T22:35:51.358518Z",
     "shell.execute_reply": "2023-01-31T22:35:51.357180Z"
    },
    "papermill": {
     "duration": 0.028781,
     "end_time": "2023-01-31T22:35:51.361038",
     "exception": false,
     "start_time": "2023-01-31T22:35:51.332257",
     "status": "completed"
    },
    "tags": []
   },
   "outputs": [
    {
     "name": "stdout",
     "output_type": "stream",
     "text": [
      "Test_data_missing: 414\n",
      "Shape:  (418, 11)\n"
     ]
    }
   ],
   "source": [
    "print(\"Test_data_missing:\", test_data.isna().sum().sum())\n",
    "print(\"Shape: \", test_data.shape)"
   ]
  },
  {
   "cell_type": "code",
   "execution_count": 6,
   "id": "14b6bb57",
   "metadata": {
    "execution": {
     "iopub.execute_input": "2023-01-31T22:35:51.397941Z",
     "iopub.status.busy": "2023-01-31T22:35:51.396118Z",
     "iopub.status.idle": "2023-01-31T22:35:51.404708Z",
     "shell.execute_reply": "2023-01-31T22:35:51.403201Z"
    },
    "papermill": {
     "duration": 0.029433,
     "end_time": "2023-01-31T22:35:51.407148",
     "exception": false,
     "start_time": "2023-01-31T22:35:51.377715",
     "status": "completed"
    },
    "tags": []
   },
   "outputs": [
    {
     "name": "stdout",
     "output_type": "stream",
     "text": [
      "Gender_data_missing:  0\n",
      "Shape:  (418, 2)\n"
     ]
    }
   ],
   "source": [
    "print(\"Gender_data_missing: \", gender_data.isna().sum().sum())\n",
    "print(\"Shape: \", gender_data.shape)"
   ]
  },
  {
   "cell_type": "markdown",
   "id": "3af19eb1",
   "metadata": {
    "papermill": {
     "duration": 0.017228,
     "end_time": "2023-01-31T22:35:51.441122",
     "exception": false,
     "start_time": "2023-01-31T22:35:51.423894",
     "status": "completed"
    },
    "tags": []
   },
   "source": [
    "# Check details of each data"
   ]
  },
  {
   "cell_type": "code",
   "execution_count": 7,
   "id": "0b7eb3ca",
   "metadata": {
    "execution": {
     "iopub.execute_input": "2023-01-31T22:35:51.476919Z",
     "iopub.status.busy": "2023-01-31T22:35:51.476445Z",
     "iopub.status.idle": "2023-01-31T22:35:51.500803Z",
     "shell.execute_reply": "2023-01-31T22:35:51.499566Z"
    },
    "papermill": {
     "duration": 0.045201,
     "end_time": "2023-01-31T22:35:51.503257",
     "exception": false,
     "start_time": "2023-01-31T22:35:51.458056",
     "status": "completed"
    },
    "tags": []
   },
   "outputs": [
    {
     "data": {
      "text/html": [
       "<div>\n",
       "<style scoped>\n",
       "    .dataframe tbody tr th:only-of-type {\n",
       "        vertical-align: middle;\n",
       "    }\n",
       "\n",
       "    .dataframe tbody tr th {\n",
       "        vertical-align: top;\n",
       "    }\n",
       "\n",
       "    .dataframe thead th {\n",
       "        text-align: right;\n",
       "    }\n",
       "</style>\n",
       "<table border=\"1\" class=\"dataframe\">\n",
       "  <thead>\n",
       "    <tr style=\"text-align: right;\">\n",
       "      <th></th>\n",
       "      <th>PassengerId</th>\n",
       "      <th>Survived</th>\n",
       "      <th>Pclass</th>\n",
       "      <th>Name</th>\n",
       "      <th>Sex</th>\n",
       "      <th>Age</th>\n",
       "      <th>SibSp</th>\n",
       "      <th>Parch</th>\n",
       "      <th>Ticket</th>\n",
       "      <th>Fare</th>\n",
       "      <th>Cabin</th>\n",
       "      <th>Embarked</th>\n",
       "    </tr>\n",
       "  </thead>\n",
       "  <tbody>\n",
       "    <tr>\n",
       "      <th>0</th>\n",
       "      <td>1</td>\n",
       "      <td>0</td>\n",
       "      <td>3</td>\n",
       "      <td>Braund, Mr. Owen Harris</td>\n",
       "      <td>male</td>\n",
       "      <td>22.0</td>\n",
       "      <td>1</td>\n",
       "      <td>0</td>\n",
       "      <td>A/5 21171</td>\n",
       "      <td>7.2500</td>\n",
       "      <td>NaN</td>\n",
       "      <td>S</td>\n",
       "    </tr>\n",
       "    <tr>\n",
       "      <th>1</th>\n",
       "      <td>2</td>\n",
       "      <td>1</td>\n",
       "      <td>1</td>\n",
       "      <td>Cumings, Mrs. John Bradley (Florence Briggs Th...</td>\n",
       "      <td>female</td>\n",
       "      <td>38.0</td>\n",
       "      <td>1</td>\n",
       "      <td>0</td>\n",
       "      <td>PC 17599</td>\n",
       "      <td>71.2833</td>\n",
       "      <td>C85</td>\n",
       "      <td>C</td>\n",
       "    </tr>\n",
       "    <tr>\n",
       "      <th>2</th>\n",
       "      <td>3</td>\n",
       "      <td>1</td>\n",
       "      <td>3</td>\n",
       "      <td>Heikkinen, Miss. Laina</td>\n",
       "      <td>female</td>\n",
       "      <td>26.0</td>\n",
       "      <td>0</td>\n",
       "      <td>0</td>\n",
       "      <td>STON/O2. 3101282</td>\n",
       "      <td>7.9250</td>\n",
       "      <td>NaN</td>\n",
       "      <td>S</td>\n",
       "    </tr>\n",
       "    <tr>\n",
       "      <th>3</th>\n",
       "      <td>4</td>\n",
       "      <td>1</td>\n",
       "      <td>1</td>\n",
       "      <td>Futrelle, Mrs. Jacques Heath (Lily May Peel)</td>\n",
       "      <td>female</td>\n",
       "      <td>35.0</td>\n",
       "      <td>1</td>\n",
       "      <td>0</td>\n",
       "      <td>113803</td>\n",
       "      <td>53.1000</td>\n",
       "      <td>C123</td>\n",
       "      <td>S</td>\n",
       "    </tr>\n",
       "    <tr>\n",
       "      <th>4</th>\n",
       "      <td>5</td>\n",
       "      <td>0</td>\n",
       "      <td>3</td>\n",
       "      <td>Allen, Mr. William Henry</td>\n",
       "      <td>male</td>\n",
       "      <td>35.0</td>\n",
       "      <td>0</td>\n",
       "      <td>0</td>\n",
       "      <td>373450</td>\n",
       "      <td>8.0500</td>\n",
       "      <td>NaN</td>\n",
       "      <td>S</td>\n",
       "    </tr>\n",
       "  </tbody>\n",
       "</table>\n",
       "</div>"
      ],
      "text/plain": [
       "   PassengerId  Survived  Pclass  \\\n",
       "0            1         0       3   \n",
       "1            2         1       1   \n",
       "2            3         1       3   \n",
       "3            4         1       1   \n",
       "4            5         0       3   \n",
       "\n",
       "                                                Name     Sex   Age  SibSp  \\\n",
       "0                            Braund, Mr. Owen Harris    male  22.0      1   \n",
       "1  Cumings, Mrs. John Bradley (Florence Briggs Th...  female  38.0      1   \n",
       "2                             Heikkinen, Miss. Laina  female  26.0      0   \n",
       "3       Futrelle, Mrs. Jacques Heath (Lily May Peel)  female  35.0      1   \n",
       "4                           Allen, Mr. William Henry    male  35.0      0   \n",
       "\n",
       "   Parch            Ticket     Fare Cabin Embarked  \n",
       "0      0         A/5 21171   7.2500   NaN        S  \n",
       "1      0          PC 17599  71.2833   C85        C  \n",
       "2      0  STON/O2. 3101282   7.9250   NaN        S  \n",
       "3      0            113803  53.1000  C123        S  \n",
       "4      0            373450   8.0500   NaN        S  "
      ]
     },
     "execution_count": 7,
     "metadata": {},
     "output_type": "execute_result"
    }
   ],
   "source": [
    "train_data.head()"
   ]
  },
  {
   "cell_type": "code",
   "execution_count": 8,
   "id": "ce6737ce",
   "metadata": {
    "execution": {
     "iopub.execute_input": "2023-01-31T22:35:51.539040Z",
     "iopub.status.busy": "2023-01-31T22:35:51.538551Z",
     "iopub.status.idle": "2023-01-31T22:35:51.573040Z",
     "shell.execute_reply": "2023-01-31T22:35:51.571988Z"
    },
    "papermill": {
     "duration": 0.057469,
     "end_time": "2023-01-31T22:35:51.577744",
     "exception": false,
     "start_time": "2023-01-31T22:35:51.520275",
     "status": "completed"
    },
    "tags": []
   },
   "outputs": [
    {
     "data": {
      "text/html": [
       "<div>\n",
       "<style scoped>\n",
       "    .dataframe tbody tr th:only-of-type {\n",
       "        vertical-align: middle;\n",
       "    }\n",
       "\n",
       "    .dataframe tbody tr th {\n",
       "        vertical-align: top;\n",
       "    }\n",
       "\n",
       "    .dataframe thead th {\n",
       "        text-align: right;\n",
       "    }\n",
       "</style>\n",
       "<table border=\"1\" class=\"dataframe\">\n",
       "  <thead>\n",
       "    <tr style=\"text-align: right;\">\n",
       "      <th></th>\n",
       "      <th>PassengerId</th>\n",
       "      <th>Survived</th>\n",
       "      <th>Pclass</th>\n",
       "      <th>Age</th>\n",
       "      <th>SibSp</th>\n",
       "      <th>Parch</th>\n",
       "      <th>Fare</th>\n",
       "    </tr>\n",
       "  </thead>\n",
       "  <tbody>\n",
       "    <tr>\n",
       "      <th>count</th>\n",
       "      <td>891.000000</td>\n",
       "      <td>891.000000</td>\n",
       "      <td>891.000000</td>\n",
       "      <td>714.000000</td>\n",
       "      <td>891.000000</td>\n",
       "      <td>891.000000</td>\n",
       "      <td>891.000000</td>\n",
       "    </tr>\n",
       "    <tr>\n",
       "      <th>mean</th>\n",
       "      <td>446.000000</td>\n",
       "      <td>0.383838</td>\n",
       "      <td>2.308642</td>\n",
       "      <td>29.699118</td>\n",
       "      <td>0.523008</td>\n",
       "      <td>0.381594</td>\n",
       "      <td>32.204208</td>\n",
       "    </tr>\n",
       "    <tr>\n",
       "      <th>std</th>\n",
       "      <td>257.353842</td>\n",
       "      <td>0.486592</td>\n",
       "      <td>0.836071</td>\n",
       "      <td>14.526497</td>\n",
       "      <td>1.102743</td>\n",
       "      <td>0.806057</td>\n",
       "      <td>49.693429</td>\n",
       "    </tr>\n",
       "    <tr>\n",
       "      <th>min</th>\n",
       "      <td>1.000000</td>\n",
       "      <td>0.000000</td>\n",
       "      <td>1.000000</td>\n",
       "      <td>0.420000</td>\n",
       "      <td>0.000000</td>\n",
       "      <td>0.000000</td>\n",
       "      <td>0.000000</td>\n",
       "    </tr>\n",
       "    <tr>\n",
       "      <th>25%</th>\n",
       "      <td>223.500000</td>\n",
       "      <td>0.000000</td>\n",
       "      <td>2.000000</td>\n",
       "      <td>20.125000</td>\n",
       "      <td>0.000000</td>\n",
       "      <td>0.000000</td>\n",
       "      <td>7.910400</td>\n",
       "    </tr>\n",
       "    <tr>\n",
       "      <th>50%</th>\n",
       "      <td>446.000000</td>\n",
       "      <td>0.000000</td>\n",
       "      <td>3.000000</td>\n",
       "      <td>28.000000</td>\n",
       "      <td>0.000000</td>\n",
       "      <td>0.000000</td>\n",
       "      <td>14.454200</td>\n",
       "    </tr>\n",
       "    <tr>\n",
       "      <th>75%</th>\n",
       "      <td>668.500000</td>\n",
       "      <td>1.000000</td>\n",
       "      <td>3.000000</td>\n",
       "      <td>38.000000</td>\n",
       "      <td>1.000000</td>\n",
       "      <td>0.000000</td>\n",
       "      <td>31.000000</td>\n",
       "    </tr>\n",
       "    <tr>\n",
       "      <th>max</th>\n",
       "      <td>891.000000</td>\n",
       "      <td>1.000000</td>\n",
       "      <td>3.000000</td>\n",
       "      <td>80.000000</td>\n",
       "      <td>8.000000</td>\n",
       "      <td>6.000000</td>\n",
       "      <td>512.329200</td>\n",
       "    </tr>\n",
       "  </tbody>\n",
       "</table>\n",
       "</div>"
      ],
      "text/plain": [
       "       PassengerId    Survived      Pclass         Age       SibSp  \\\n",
       "count   891.000000  891.000000  891.000000  714.000000  891.000000   \n",
       "mean    446.000000    0.383838    2.308642   29.699118    0.523008   \n",
       "std     257.353842    0.486592    0.836071   14.526497    1.102743   \n",
       "min       1.000000    0.000000    1.000000    0.420000    0.000000   \n",
       "25%     223.500000    0.000000    2.000000   20.125000    0.000000   \n",
       "50%     446.000000    0.000000    3.000000   28.000000    0.000000   \n",
       "75%     668.500000    1.000000    3.000000   38.000000    1.000000   \n",
       "max     891.000000    1.000000    3.000000   80.000000    8.000000   \n",
       "\n",
       "            Parch        Fare  \n",
       "count  891.000000  891.000000  \n",
       "mean     0.381594   32.204208  \n",
       "std      0.806057   49.693429  \n",
       "min      0.000000    0.000000  \n",
       "25%      0.000000    7.910400  \n",
       "50%      0.000000   14.454200  \n",
       "75%      0.000000   31.000000  \n",
       "max      6.000000  512.329200  "
      ]
     },
     "execution_count": 8,
     "metadata": {},
     "output_type": "execute_result"
    }
   ],
   "source": [
    "train_data.describe()"
   ]
  },
  {
   "cell_type": "code",
   "execution_count": 9,
   "id": "dbb14a07",
   "metadata": {
    "execution": {
     "iopub.execute_input": "2023-01-31T22:35:51.615310Z",
     "iopub.status.busy": "2023-01-31T22:35:51.614781Z",
     "iopub.status.idle": "2023-01-31T22:35:51.638890Z",
     "shell.execute_reply": "2023-01-31T22:35:51.637679Z"
    },
    "papermill": {
     "duration": 0.045048,
     "end_time": "2023-01-31T22:35:51.641208",
     "exception": false,
     "start_time": "2023-01-31T22:35:51.596160",
     "status": "completed"
    },
    "tags": []
   },
   "outputs": [
    {
     "data": {
      "text/html": [
       "<div>\n",
       "<style scoped>\n",
       "    .dataframe tbody tr th:only-of-type {\n",
       "        vertical-align: middle;\n",
       "    }\n",
       "\n",
       "    .dataframe tbody tr th {\n",
       "        vertical-align: top;\n",
       "    }\n",
       "\n",
       "    .dataframe thead th {\n",
       "        text-align: right;\n",
       "    }\n",
       "</style>\n",
       "<table border=\"1\" class=\"dataframe\">\n",
       "  <thead>\n",
       "    <tr style=\"text-align: right;\">\n",
       "      <th></th>\n",
       "      <th>Name</th>\n",
       "      <th>Sex</th>\n",
       "      <th>Ticket</th>\n",
       "      <th>Cabin</th>\n",
       "      <th>Embarked</th>\n",
       "    </tr>\n",
       "  </thead>\n",
       "  <tbody>\n",
       "    <tr>\n",
       "      <th>count</th>\n",
       "      <td>891</td>\n",
       "      <td>891</td>\n",
       "      <td>891</td>\n",
       "      <td>204</td>\n",
       "      <td>889</td>\n",
       "    </tr>\n",
       "    <tr>\n",
       "      <th>unique</th>\n",
       "      <td>891</td>\n",
       "      <td>2</td>\n",
       "      <td>681</td>\n",
       "      <td>147</td>\n",
       "      <td>3</td>\n",
       "    </tr>\n",
       "    <tr>\n",
       "      <th>top</th>\n",
       "      <td>Braund, Mr. Owen Harris</td>\n",
       "      <td>male</td>\n",
       "      <td>347082</td>\n",
       "      <td>B96 B98</td>\n",
       "      <td>S</td>\n",
       "    </tr>\n",
       "    <tr>\n",
       "      <th>freq</th>\n",
       "      <td>1</td>\n",
       "      <td>577</td>\n",
       "      <td>7</td>\n",
       "      <td>4</td>\n",
       "      <td>644</td>\n",
       "    </tr>\n",
       "  </tbody>\n",
       "</table>\n",
       "</div>"
      ],
      "text/plain": [
       "                           Name   Sex  Ticket    Cabin Embarked\n",
       "count                       891   891     891      204      889\n",
       "unique                      891     2     681      147        3\n",
       "top     Braund, Mr. Owen Harris  male  347082  B96 B98        S\n",
       "freq                          1   577       7        4      644"
      ]
     },
     "execution_count": 9,
     "metadata": {},
     "output_type": "execute_result"
    }
   ],
   "source": [
    "train_data.describe(include='O')"
   ]
  },
  {
   "cell_type": "code",
   "execution_count": 10,
   "id": "b42d416c",
   "metadata": {
    "execution": {
     "iopub.execute_input": "2023-01-31T22:35:51.677435Z",
     "iopub.status.busy": "2023-01-31T22:35:51.677004Z",
     "iopub.status.idle": "2023-01-31T22:35:51.693568Z",
     "shell.execute_reply": "2023-01-31T22:35:51.692442Z"
    },
    "papermill": {
     "duration": 0.037581,
     "end_time": "2023-01-31T22:35:51.696027",
     "exception": false,
     "start_time": "2023-01-31T22:35:51.658446",
     "status": "completed"
    },
    "tags": []
   },
   "outputs": [
    {
     "data": {
      "text/html": [
       "<div>\n",
       "<style scoped>\n",
       "    .dataframe tbody tr th:only-of-type {\n",
       "        vertical-align: middle;\n",
       "    }\n",
       "\n",
       "    .dataframe tbody tr th {\n",
       "        vertical-align: top;\n",
       "    }\n",
       "\n",
       "    .dataframe thead th {\n",
       "        text-align: right;\n",
       "    }\n",
       "</style>\n",
       "<table border=\"1\" class=\"dataframe\">\n",
       "  <thead>\n",
       "    <tr style=\"text-align: right;\">\n",
       "      <th></th>\n",
       "      <th>PassengerId</th>\n",
       "      <th>Pclass</th>\n",
       "      <th>Name</th>\n",
       "      <th>Sex</th>\n",
       "      <th>Age</th>\n",
       "      <th>SibSp</th>\n",
       "      <th>Parch</th>\n",
       "      <th>Ticket</th>\n",
       "      <th>Fare</th>\n",
       "      <th>Cabin</th>\n",
       "      <th>Embarked</th>\n",
       "    </tr>\n",
       "  </thead>\n",
       "  <tbody>\n",
       "    <tr>\n",
       "      <th>0</th>\n",
       "      <td>892</td>\n",
       "      <td>3</td>\n",
       "      <td>Kelly, Mr. James</td>\n",
       "      <td>male</td>\n",
       "      <td>34.5</td>\n",
       "      <td>0</td>\n",
       "      <td>0</td>\n",
       "      <td>330911</td>\n",
       "      <td>7.8292</td>\n",
       "      <td>NaN</td>\n",
       "      <td>Q</td>\n",
       "    </tr>\n",
       "    <tr>\n",
       "      <th>1</th>\n",
       "      <td>893</td>\n",
       "      <td>3</td>\n",
       "      <td>Wilkes, Mrs. James (Ellen Needs)</td>\n",
       "      <td>female</td>\n",
       "      <td>47.0</td>\n",
       "      <td>1</td>\n",
       "      <td>0</td>\n",
       "      <td>363272</td>\n",
       "      <td>7.0000</td>\n",
       "      <td>NaN</td>\n",
       "      <td>S</td>\n",
       "    </tr>\n",
       "    <tr>\n",
       "      <th>2</th>\n",
       "      <td>894</td>\n",
       "      <td>2</td>\n",
       "      <td>Myles, Mr. Thomas Francis</td>\n",
       "      <td>male</td>\n",
       "      <td>62.0</td>\n",
       "      <td>0</td>\n",
       "      <td>0</td>\n",
       "      <td>240276</td>\n",
       "      <td>9.6875</td>\n",
       "      <td>NaN</td>\n",
       "      <td>Q</td>\n",
       "    </tr>\n",
       "    <tr>\n",
       "      <th>3</th>\n",
       "      <td>895</td>\n",
       "      <td>3</td>\n",
       "      <td>Wirz, Mr. Albert</td>\n",
       "      <td>male</td>\n",
       "      <td>27.0</td>\n",
       "      <td>0</td>\n",
       "      <td>0</td>\n",
       "      <td>315154</td>\n",
       "      <td>8.6625</td>\n",
       "      <td>NaN</td>\n",
       "      <td>S</td>\n",
       "    </tr>\n",
       "    <tr>\n",
       "      <th>4</th>\n",
       "      <td>896</td>\n",
       "      <td>3</td>\n",
       "      <td>Hirvonen, Mrs. Alexander (Helga E Lindqvist)</td>\n",
       "      <td>female</td>\n",
       "      <td>22.0</td>\n",
       "      <td>1</td>\n",
       "      <td>1</td>\n",
       "      <td>3101298</td>\n",
       "      <td>12.2875</td>\n",
       "      <td>NaN</td>\n",
       "      <td>S</td>\n",
       "    </tr>\n",
       "  </tbody>\n",
       "</table>\n",
       "</div>"
      ],
      "text/plain": [
       "   PassengerId  Pclass                                          Name     Sex  \\\n",
       "0          892       3                              Kelly, Mr. James    male   \n",
       "1          893       3              Wilkes, Mrs. James (Ellen Needs)  female   \n",
       "2          894       2                     Myles, Mr. Thomas Francis    male   \n",
       "3          895       3                              Wirz, Mr. Albert    male   \n",
       "4          896       3  Hirvonen, Mrs. Alexander (Helga E Lindqvist)  female   \n",
       "\n",
       "    Age  SibSp  Parch   Ticket     Fare Cabin Embarked  \n",
       "0  34.5      0      0   330911   7.8292   NaN        Q  \n",
       "1  47.0      1      0   363272   7.0000   NaN        S  \n",
       "2  62.0      0      0   240276   9.6875   NaN        Q  \n",
       "3  27.0      0      0   315154   8.6625   NaN        S  \n",
       "4  22.0      1      1  3101298  12.2875   NaN        S  "
      ]
     },
     "execution_count": 10,
     "metadata": {},
     "output_type": "execute_result"
    }
   ],
   "source": [
    "test_data.head()"
   ]
  },
  {
   "cell_type": "code",
   "execution_count": 11,
   "id": "f2fbd794",
   "metadata": {
    "execution": {
     "iopub.execute_input": "2023-01-31T22:35:51.733127Z",
     "iopub.status.busy": "2023-01-31T22:35:51.732694Z",
     "iopub.status.idle": "2023-01-31T22:35:51.764623Z",
     "shell.execute_reply": "2023-01-31T22:35:51.763346Z"
    },
    "papermill": {
     "duration": 0.053915,
     "end_time": "2023-01-31T22:35:51.767655",
     "exception": false,
     "start_time": "2023-01-31T22:35:51.713740",
     "status": "completed"
    },
    "tags": []
   },
   "outputs": [
    {
     "data": {
      "text/html": [
       "<div>\n",
       "<style scoped>\n",
       "    .dataframe tbody tr th:only-of-type {\n",
       "        vertical-align: middle;\n",
       "    }\n",
       "\n",
       "    .dataframe tbody tr th {\n",
       "        vertical-align: top;\n",
       "    }\n",
       "\n",
       "    .dataframe thead th {\n",
       "        text-align: right;\n",
       "    }\n",
       "</style>\n",
       "<table border=\"1\" class=\"dataframe\">\n",
       "  <thead>\n",
       "    <tr style=\"text-align: right;\">\n",
       "      <th></th>\n",
       "      <th>PassengerId</th>\n",
       "      <th>Pclass</th>\n",
       "      <th>Age</th>\n",
       "      <th>SibSp</th>\n",
       "      <th>Parch</th>\n",
       "      <th>Fare</th>\n",
       "    </tr>\n",
       "  </thead>\n",
       "  <tbody>\n",
       "    <tr>\n",
       "      <th>count</th>\n",
       "      <td>418.000000</td>\n",
       "      <td>418.000000</td>\n",
       "      <td>332.000000</td>\n",
       "      <td>418.000000</td>\n",
       "      <td>418.000000</td>\n",
       "      <td>417.000000</td>\n",
       "    </tr>\n",
       "    <tr>\n",
       "      <th>mean</th>\n",
       "      <td>1100.500000</td>\n",
       "      <td>2.265550</td>\n",
       "      <td>30.272590</td>\n",
       "      <td>0.447368</td>\n",
       "      <td>0.392344</td>\n",
       "      <td>35.627188</td>\n",
       "    </tr>\n",
       "    <tr>\n",
       "      <th>std</th>\n",
       "      <td>120.810458</td>\n",
       "      <td>0.841838</td>\n",
       "      <td>14.181209</td>\n",
       "      <td>0.896760</td>\n",
       "      <td>0.981429</td>\n",
       "      <td>55.907576</td>\n",
       "    </tr>\n",
       "    <tr>\n",
       "      <th>min</th>\n",
       "      <td>892.000000</td>\n",
       "      <td>1.000000</td>\n",
       "      <td>0.170000</td>\n",
       "      <td>0.000000</td>\n",
       "      <td>0.000000</td>\n",
       "      <td>0.000000</td>\n",
       "    </tr>\n",
       "    <tr>\n",
       "      <th>25%</th>\n",
       "      <td>996.250000</td>\n",
       "      <td>1.000000</td>\n",
       "      <td>21.000000</td>\n",
       "      <td>0.000000</td>\n",
       "      <td>0.000000</td>\n",
       "      <td>7.895800</td>\n",
       "    </tr>\n",
       "    <tr>\n",
       "      <th>50%</th>\n",
       "      <td>1100.500000</td>\n",
       "      <td>3.000000</td>\n",
       "      <td>27.000000</td>\n",
       "      <td>0.000000</td>\n",
       "      <td>0.000000</td>\n",
       "      <td>14.454200</td>\n",
       "    </tr>\n",
       "    <tr>\n",
       "      <th>75%</th>\n",
       "      <td>1204.750000</td>\n",
       "      <td>3.000000</td>\n",
       "      <td>39.000000</td>\n",
       "      <td>1.000000</td>\n",
       "      <td>0.000000</td>\n",
       "      <td>31.500000</td>\n",
       "    </tr>\n",
       "    <tr>\n",
       "      <th>max</th>\n",
       "      <td>1309.000000</td>\n",
       "      <td>3.000000</td>\n",
       "      <td>76.000000</td>\n",
       "      <td>8.000000</td>\n",
       "      <td>9.000000</td>\n",
       "      <td>512.329200</td>\n",
       "    </tr>\n",
       "  </tbody>\n",
       "</table>\n",
       "</div>"
      ],
      "text/plain": [
       "       PassengerId      Pclass         Age       SibSp       Parch        Fare\n",
       "count   418.000000  418.000000  332.000000  418.000000  418.000000  417.000000\n",
       "mean   1100.500000    2.265550   30.272590    0.447368    0.392344   35.627188\n",
       "std     120.810458    0.841838   14.181209    0.896760    0.981429   55.907576\n",
       "min     892.000000    1.000000    0.170000    0.000000    0.000000    0.000000\n",
       "25%     996.250000    1.000000   21.000000    0.000000    0.000000    7.895800\n",
       "50%    1100.500000    3.000000   27.000000    0.000000    0.000000   14.454200\n",
       "75%    1204.750000    3.000000   39.000000    1.000000    0.000000   31.500000\n",
       "max    1309.000000    3.000000   76.000000    8.000000    9.000000  512.329200"
      ]
     },
     "execution_count": 11,
     "metadata": {},
     "output_type": "execute_result"
    }
   ],
   "source": [
    "test_data.describe()"
   ]
  },
  {
   "cell_type": "code",
   "execution_count": 12,
   "id": "67b6d083",
   "metadata": {
    "execution": {
     "iopub.execute_input": "2023-01-31T22:35:51.806385Z",
     "iopub.status.busy": "2023-01-31T22:35:51.805194Z",
     "iopub.status.idle": "2023-01-31T22:35:51.828763Z",
     "shell.execute_reply": "2023-01-31T22:35:51.827420Z"
    },
    "papermill": {
     "duration": 0.045386,
     "end_time": "2023-01-31T22:35:51.831282",
     "exception": false,
     "start_time": "2023-01-31T22:35:51.785896",
     "status": "completed"
    },
    "tags": []
   },
   "outputs": [
    {
     "data": {
      "text/html": [
       "<div>\n",
       "<style scoped>\n",
       "    .dataframe tbody tr th:only-of-type {\n",
       "        vertical-align: middle;\n",
       "    }\n",
       "\n",
       "    .dataframe tbody tr th {\n",
       "        vertical-align: top;\n",
       "    }\n",
       "\n",
       "    .dataframe thead th {\n",
       "        text-align: right;\n",
       "    }\n",
       "</style>\n",
       "<table border=\"1\" class=\"dataframe\">\n",
       "  <thead>\n",
       "    <tr style=\"text-align: right;\">\n",
       "      <th></th>\n",
       "      <th>Name</th>\n",
       "      <th>Sex</th>\n",
       "      <th>Ticket</th>\n",
       "      <th>Cabin</th>\n",
       "      <th>Embarked</th>\n",
       "    </tr>\n",
       "  </thead>\n",
       "  <tbody>\n",
       "    <tr>\n",
       "      <th>count</th>\n",
       "      <td>418</td>\n",
       "      <td>418</td>\n",
       "      <td>418</td>\n",
       "      <td>91</td>\n",
       "      <td>418</td>\n",
       "    </tr>\n",
       "    <tr>\n",
       "      <th>unique</th>\n",
       "      <td>418</td>\n",
       "      <td>2</td>\n",
       "      <td>363</td>\n",
       "      <td>76</td>\n",
       "      <td>3</td>\n",
       "    </tr>\n",
       "    <tr>\n",
       "      <th>top</th>\n",
       "      <td>Kelly, Mr. James</td>\n",
       "      <td>male</td>\n",
       "      <td>PC 17608</td>\n",
       "      <td>B57 B59 B63 B66</td>\n",
       "      <td>S</td>\n",
       "    </tr>\n",
       "    <tr>\n",
       "      <th>freq</th>\n",
       "      <td>1</td>\n",
       "      <td>266</td>\n",
       "      <td>5</td>\n",
       "      <td>3</td>\n",
       "      <td>270</td>\n",
       "    </tr>\n",
       "  </tbody>\n",
       "</table>\n",
       "</div>"
      ],
      "text/plain": [
       "                    Name   Sex    Ticket            Cabin Embarked\n",
       "count                418   418       418               91      418\n",
       "unique               418     2       363               76        3\n",
       "top     Kelly, Mr. James  male  PC 17608  B57 B59 B63 B66        S\n",
       "freq                   1   266         5                3      270"
      ]
     },
     "execution_count": 12,
     "metadata": {},
     "output_type": "execute_result"
    }
   ],
   "source": [
    "test_data.describe(include='O')"
   ]
  },
  {
   "cell_type": "code",
   "execution_count": 13,
   "id": "8cf25485",
   "metadata": {
    "execution": {
     "iopub.execute_input": "2023-01-31T22:35:51.869553Z",
     "iopub.status.busy": "2023-01-31T22:35:51.868722Z",
     "iopub.status.idle": "2023-01-31T22:35:51.879620Z",
     "shell.execute_reply": "2023-01-31T22:35:51.878470Z"
    },
    "papermill": {
     "duration": 0.032528,
     "end_time": "2023-01-31T22:35:51.882012",
     "exception": false,
     "start_time": "2023-01-31T22:35:51.849484",
     "status": "completed"
    },
    "tags": []
   },
   "outputs": [
    {
     "data": {
      "text/html": [
       "<div>\n",
       "<style scoped>\n",
       "    .dataframe tbody tr th:only-of-type {\n",
       "        vertical-align: middle;\n",
       "    }\n",
       "\n",
       "    .dataframe tbody tr th {\n",
       "        vertical-align: top;\n",
       "    }\n",
       "\n",
       "    .dataframe thead th {\n",
       "        text-align: right;\n",
       "    }\n",
       "</style>\n",
       "<table border=\"1\" class=\"dataframe\">\n",
       "  <thead>\n",
       "    <tr style=\"text-align: right;\">\n",
       "      <th></th>\n",
       "      <th>PassengerId</th>\n",
       "      <th>Survived</th>\n",
       "    </tr>\n",
       "  </thead>\n",
       "  <tbody>\n",
       "    <tr>\n",
       "      <th>0</th>\n",
       "      <td>892</td>\n",
       "      <td>0</td>\n",
       "    </tr>\n",
       "    <tr>\n",
       "      <th>1</th>\n",
       "      <td>893</td>\n",
       "      <td>1</td>\n",
       "    </tr>\n",
       "    <tr>\n",
       "      <th>2</th>\n",
       "      <td>894</td>\n",
       "      <td>0</td>\n",
       "    </tr>\n",
       "    <tr>\n",
       "      <th>3</th>\n",
       "      <td>895</td>\n",
       "      <td>0</td>\n",
       "    </tr>\n",
       "    <tr>\n",
       "      <th>4</th>\n",
       "      <td>896</td>\n",
       "      <td>1</td>\n",
       "    </tr>\n",
       "  </tbody>\n",
       "</table>\n",
       "</div>"
      ],
      "text/plain": [
       "   PassengerId  Survived\n",
       "0          892         0\n",
       "1          893         1\n",
       "2          894         0\n",
       "3          895         0\n",
       "4          896         1"
      ]
     },
     "execution_count": 13,
     "metadata": {},
     "output_type": "execute_result"
    }
   ],
   "source": [
    "gender_data.head()"
   ]
  },
  {
   "cell_type": "code",
   "execution_count": 14,
   "id": "5aa3da4e",
   "metadata": {
    "execution": {
     "iopub.execute_input": "2023-01-31T22:35:51.920504Z",
     "iopub.status.busy": "2023-01-31T22:35:51.919702Z",
     "iopub.status.idle": "2023-01-31T22:35:51.939721Z",
     "shell.execute_reply": "2023-01-31T22:35:51.938700Z"
    },
    "papermill": {
     "duration": 0.042235,
     "end_time": "2023-01-31T22:35:51.942413",
     "exception": false,
     "start_time": "2023-01-31T22:35:51.900178",
     "status": "completed"
    },
    "tags": []
   },
   "outputs": [
    {
     "data": {
      "text/html": [
       "<div>\n",
       "<style scoped>\n",
       "    .dataframe tbody tr th:only-of-type {\n",
       "        vertical-align: middle;\n",
       "    }\n",
       "\n",
       "    .dataframe tbody tr th {\n",
       "        vertical-align: top;\n",
       "    }\n",
       "\n",
       "    .dataframe thead th {\n",
       "        text-align: right;\n",
       "    }\n",
       "</style>\n",
       "<table border=\"1\" class=\"dataframe\">\n",
       "  <thead>\n",
       "    <tr style=\"text-align: right;\">\n",
       "      <th></th>\n",
       "      <th>PassengerId</th>\n",
       "      <th>Survived</th>\n",
       "    </tr>\n",
       "  </thead>\n",
       "  <tbody>\n",
       "    <tr>\n",
       "      <th>count</th>\n",
       "      <td>418.000000</td>\n",
       "      <td>418.000000</td>\n",
       "    </tr>\n",
       "    <tr>\n",
       "      <th>mean</th>\n",
       "      <td>1100.500000</td>\n",
       "      <td>0.363636</td>\n",
       "    </tr>\n",
       "    <tr>\n",
       "      <th>std</th>\n",
       "      <td>120.810458</td>\n",
       "      <td>0.481622</td>\n",
       "    </tr>\n",
       "    <tr>\n",
       "      <th>min</th>\n",
       "      <td>892.000000</td>\n",
       "      <td>0.000000</td>\n",
       "    </tr>\n",
       "    <tr>\n",
       "      <th>25%</th>\n",
       "      <td>996.250000</td>\n",
       "      <td>0.000000</td>\n",
       "    </tr>\n",
       "    <tr>\n",
       "      <th>50%</th>\n",
       "      <td>1100.500000</td>\n",
       "      <td>0.000000</td>\n",
       "    </tr>\n",
       "    <tr>\n",
       "      <th>75%</th>\n",
       "      <td>1204.750000</td>\n",
       "      <td>1.000000</td>\n",
       "    </tr>\n",
       "    <tr>\n",
       "      <th>max</th>\n",
       "      <td>1309.000000</td>\n",
       "      <td>1.000000</td>\n",
       "    </tr>\n",
       "  </tbody>\n",
       "</table>\n",
       "</div>"
      ],
      "text/plain": [
       "       PassengerId    Survived\n",
       "count   418.000000  418.000000\n",
       "mean   1100.500000    0.363636\n",
       "std     120.810458    0.481622\n",
       "min     892.000000    0.000000\n",
       "25%     996.250000    0.000000\n",
       "50%    1100.500000    0.000000\n",
       "75%    1204.750000    1.000000\n",
       "max    1309.000000    1.000000"
      ]
     },
     "execution_count": 14,
     "metadata": {},
     "output_type": "execute_result"
    }
   ],
   "source": [
    "gender_data.describe()"
   ]
  },
  {
   "cell_type": "markdown",
   "id": "110722cf",
   "metadata": {
    "papermill": {
     "duration": 0.019226,
     "end_time": "2023-01-31T22:35:51.980244",
     "exception": false,
     "start_time": "2023-01-31T22:35:51.961018",
     "status": "completed"
    },
    "tags": []
   },
   "source": [
    "# 3) Clearing Data"
   ]
  },
  {
   "cell_type": "markdown",
   "id": "21427c98",
   "metadata": {
    "papermill": {
     "duration": 0.018897,
     "end_time": "2023-01-31T22:35:52.018617",
     "exception": false,
     "start_time": "2023-01-31T22:35:51.999720",
     "status": "completed"
    },
    "tags": []
   },
   "source": [
    "**Focusing on:**\n",
    "1. Droping unimportant columns: <br>\n",
    "    *     Cabin: contain more than 50% of missing value <br>\n",
    "    *     Ticket: has the 681 uniqueness and one ticket contains numberic and text together, difficult to group. <br>\n",
    "    *     Name: the uniqueness is 100%, this may be nothing relate to the survival <br>\n",
    "2. Applying mean (average) to the missing value <br>\n",
    "3. Applying most frequent value to the missing category <br>"
   ]
  },
  {
   "cell_type": "markdown",
   "id": "114e3bc2",
   "metadata": {
    "papermill": {
     "duration": 0.017911,
     "end_time": "2023-01-31T22:35:52.054830",
     "exception": false,
     "start_time": "2023-01-31T22:35:52.036919",
     "status": "completed"
    },
    "tags": []
   },
   "source": [
    "# Training data"
   ]
  },
  {
   "cell_type": "code",
   "execution_count": 15,
   "id": "8910a817",
   "metadata": {
    "execution": {
     "iopub.execute_input": "2023-01-31T22:35:52.093549Z",
     "iopub.status.busy": "2023-01-31T22:35:52.093124Z",
     "iopub.status.idle": "2023-01-31T22:35:52.101699Z",
     "shell.execute_reply": "2023-01-31T22:35:52.100514Z"
    },
    "papermill": {
     "duration": 0.030736,
     "end_time": "2023-01-31T22:35:52.103914",
     "exception": false,
     "start_time": "2023-01-31T22:35:52.073178",
     "status": "completed"
    },
    "tags": []
   },
   "outputs": [],
   "source": [
    "# Start with training dataset first\n",
    "train_missing = (train_data.isnull().sum()/train_data.shape[0])*100\n",
    "train_missing = train_missing.sort_values(ascending=False)"
   ]
  },
  {
   "cell_type": "code",
   "execution_count": 16,
   "id": "d0d92435",
   "metadata": {
    "execution": {
     "iopub.execute_input": "2023-01-31T22:35:52.142813Z",
     "iopub.status.busy": "2023-01-31T22:35:52.142386Z",
     "iopub.status.idle": "2023-01-31T22:35:52.473877Z",
     "shell.execute_reply": "2023-01-31T22:35:52.472652Z"
    },
    "papermill": {
     "duration": 0.354141,
     "end_time": "2023-01-31T22:35:52.476560",
     "exception": false,
     "start_time": "2023-01-31T22:35:52.122419",
     "status": "completed"
    },
    "tags": []
   },
   "outputs": [
    {
     "data": {
      "text/plain": [
       "<AxesSubplot:>"
      ]
     },
     "execution_count": 16,
     "metadata": {},
     "output_type": "execute_result"
    },
    {
     "data": {
      "image/png": "[encoded data removed]",
      "text/plain": [
       "<Figure size 720x432 with 1 Axes>"
      ]
     },
     "metadata": {
      "needs_background": "light"
     },
     "output_type": "display_data"
    }
   ],
   "source": [
    "#show the missing values in a plot\n",
    "import matplotlib.pyplot as plt\n",
    "\n",
    "plt.figure(figsize=(10, 6))\n",
    "plt.xticks(rotation=\"45\")\n",
    "sns.barplot(x=train_missing.index, y=train_missing)"
   ]
  },
  {
   "cell_type": "code",
   "execution_count": 17,
   "id": "f11c49fa",
   "metadata": {
    "execution": {
     "iopub.execute_input": "2023-01-31T22:35:52.516746Z",
     "iopub.status.busy": "2023-01-31T22:35:52.515571Z",
     "iopub.status.idle": "2023-01-31T22:35:52.528018Z",
     "shell.execute_reply": "2023-01-31T22:35:52.526768Z"
    },
    "papermill": {
     "duration": 0.034951,
     "end_time": "2023-01-31T22:35:52.530331",
     "exception": false,
     "start_time": "2023-01-31T22:35:52.495380",
     "status": "completed"
    },
    "tags": []
   },
   "outputs": [
    {
     "data": {
      "text/plain": [
       "Index(['PassengerId', 'Survived', 'Pclass', 'Sex', 'Age', 'SibSp', 'Parch',\n",
       "       'Fare', 'Embarked'],\n",
       "      dtype='object')"
      ]
     },
     "execution_count": 17,
     "metadata": {},
     "output_type": "execute_result"
    }
   ],
   "source": [
    "# Drop missing that more than 50% and Ticket and Name which contain much unique in the dataset\n",
    "new_train_data = train_data.drop(columns='Cabin', axis=1)\n",
    "new_train_data = new_train_data.drop(columns='Ticket', axis=1)\n",
    "new_train_data = new_train_data.drop(columns='Name', axis=1)\n",
    "new_train_data.columns"
   ]
  },
  {
   "cell_type": "code",
   "execution_count": 18,
   "id": "156ce37d",
   "metadata": {
    "execution": {
     "iopub.execute_input": "2023-01-31T22:35:52.570113Z",
     "iopub.status.busy": "2023-01-31T22:35:52.569659Z",
     "iopub.status.idle": "2023-01-31T22:35:52.577132Z",
     "shell.execute_reply": "2023-01-31T22:35:52.576300Z"
    },
    "papermill": {
     "duration": 0.029753,
     "end_time": "2023-01-31T22:35:52.579184",
     "exception": false,
     "start_time": "2023-01-31T22:35:52.549431",
     "status": "completed"
    },
    "tags": []
   },
   "outputs": [
    {
     "data": {
      "text/plain": [
       "29.69911764705882"
      ]
     },
     "execution_count": 18,
     "metadata": {},
     "output_type": "execute_result"
    }
   ],
   "source": [
    "new_train_data['Age'].mean()"
   ]
  },
  {
   "cell_type": "code",
   "execution_count": 19,
   "id": "8b148eae",
   "metadata": {
    "execution": {
     "iopub.execute_input": "2023-01-31T22:35:52.620777Z",
     "iopub.status.busy": "2023-01-31T22:35:52.620005Z",
     "iopub.status.idle": "2023-01-31T22:35:52.630505Z",
     "shell.execute_reply": "2023-01-31T22:35:52.629352Z"
    },
    "papermill": {
     "duration": 0.034056,
     "end_time": "2023-01-31T22:35:52.632967",
     "exception": false,
     "start_time": "2023-01-31T22:35:52.598911",
     "status": "completed"
    },
    "tags": []
   },
   "outputs": [
    {
     "data": {
      "text/plain": [
       "PassengerId    0\n",
       "Survived       0\n",
       "Pclass         0\n",
       "Sex            0\n",
       "Age            0\n",
       "SibSp          0\n",
       "Parch          0\n",
       "Fare           0\n",
       "Embarked       2\n",
       "dtype: int64"
      ]
     },
     "execution_count": 19,
     "metadata": {},
     "output_type": "execute_result"
    }
   ],
   "source": [
    "# Applying an average to the missing data for Age\n",
    "new_train_data['Age'] = new_train_data['Age'].fillna(new_train_data['Age'].mean())\n",
    "\n",
    "new_train_data.isnull().sum()"
   ]
  },
  {
   "cell_type": "code",
   "execution_count": 20,
   "id": "0968b681",
   "metadata": {
    "execution": {
     "iopub.execute_input": "2023-01-31T22:35:52.673246Z",
     "iopub.status.busy": "2023-01-31T22:35:52.672784Z",
     "iopub.status.idle": "2023-01-31T22:35:52.679866Z",
     "shell.execute_reply": "2023-01-31T22:35:52.679006Z"
    },
    "papermill": {
     "duration": 0.029935,
     "end_time": "2023-01-31T22:35:52.681986",
     "exception": false,
     "start_time": "2023-01-31T22:35:52.652051",
     "status": "completed"
    },
    "tags": []
   },
   "outputs": [],
   "source": [
    "# Fill NA with most frequent for category\n",
    "new_train_data['Embarked'] = new_train_data['Embarked'].fillna(new_train_data['Embarked'].value_counts().index[0])"
   ]
  },
  {
   "cell_type": "code",
   "execution_count": 21,
   "id": "2e81a843",
   "metadata": {
    "execution": {
     "iopub.execute_input": "2023-01-31T22:35:52.722947Z",
     "iopub.status.busy": "2023-01-31T22:35:52.721931Z",
     "iopub.status.idle": "2023-01-31T22:35:52.726714Z",
     "shell.execute_reply": "2023-01-31T22:35:52.725896Z"
    },
    "papermill": {
     "duration": 0.02741,
     "end_time": "2023-01-31T22:35:52.728846",
     "exception": false,
     "start_time": "2023-01-31T22:35:52.701436",
     "status": "completed"
    },
    "tags": []
   },
   "outputs": [],
   "source": [
    "# Removing the row that missing (for Embark)\n",
    "\n",
    "#bad_row = []\n",
    "#for i in range(new_train_data.shape[0]):\n",
    "#    row_missing = new_train_data.iloc[i].isnull().sum()\n",
    "#    if row_missing > 0:\n",
    "#        bad_row.append(i)\n",
    "        \n",
    "#bad_row\n",
    "\n",
    "#new_train_data = new_train_data.drop(bad_row, axis=0)"
   ]
  },
  {
   "cell_type": "code",
   "execution_count": 22,
   "id": "ccaa82f7",
   "metadata": {
    "execution": {
     "iopub.execute_input": "2023-01-31T22:35:52.769135Z",
     "iopub.status.busy": "2023-01-31T22:35:52.768099Z",
     "iopub.status.idle": "2023-01-31T22:35:52.778140Z",
     "shell.execute_reply": "2023-01-31T22:35:52.777147Z"
    },
    "papermill": {
     "duration": 0.032497,
     "end_time": "2023-01-31T22:35:52.780391",
     "exception": false,
     "start_time": "2023-01-31T22:35:52.747894",
     "status": "completed"
    },
    "tags": []
   },
   "outputs": [
    {
     "data": {
      "text/plain": [
       "0"
      ]
     },
     "execution_count": 22,
     "metadata": {},
     "output_type": "execute_result"
    }
   ],
   "source": [
    "new_train_data.isnull().sum().sum()"
   ]
  },
  {
   "cell_type": "markdown",
   "id": "a331c093",
   "metadata": {
    "papermill": {
     "duration": 0.018733,
     "end_time": "2023-01-31T22:35:52.818340",
     "exception": false,
     "start_time": "2023-01-31T22:35:52.799607",
     "status": "completed"
    },
    "tags": []
   },
   "source": [
    "# Test Data"
   ]
  },
  {
   "cell_type": "code",
   "execution_count": 23,
   "id": "51aa4956",
   "metadata": {
    "execution": {
     "iopub.execute_input": "2023-01-31T22:35:52.858657Z",
     "iopub.status.busy": "2023-01-31T22:35:52.857956Z",
     "iopub.status.idle": "2023-01-31T22:35:52.864699Z",
     "shell.execute_reply": "2023-01-31T22:35:52.863940Z"
    },
    "papermill": {
     "duration": 0.029571,
     "end_time": "2023-01-31T22:35:52.867002",
     "exception": false,
     "start_time": "2023-01-31T22:35:52.837431",
     "status": "completed"
    },
    "tags": []
   },
   "outputs": [],
   "source": [
    "# Test data\n",
    "test_missing = (test_data.isna().sum()/test_data.shape[0]) *100\n",
    "test_missing = test_missing.sort_values(ascending=False)"
   ]
  },
  {
   "cell_type": "code",
   "execution_count": 24,
   "id": "e2f0ec0d",
   "metadata": {
    "execution": {
     "iopub.execute_input": "2023-01-31T22:35:52.907828Z",
     "iopub.status.busy": "2023-01-31T22:35:52.907096Z",
     "iopub.status.idle": "2023-01-31T22:35:53.192776Z",
     "shell.execute_reply": "2023-01-31T22:35:53.191562Z"
    },
    "papermill": {
     "duration": 0.309305,
     "end_time": "2023-01-31T22:35:53.195427",
     "exception": false,
     "start_time": "2023-01-31T22:35:52.886122",
     "status": "completed"
    },
    "tags": []
   },
   "outputs": [
    {
     "data": {
      "text/plain": [
       "<AxesSubplot:>"
      ]
     },
     "execution_count": 24,
     "metadata": {},
     "output_type": "execute_result"
    },
    {
     "data": {
      "image/png": "[encoded data removed]",
      "text/plain": [
       "<Figure size 864x432 with 1 Axes>"
      ]
     },
     "metadata": {
      "needs_background": "light"
     },
     "output_type": "display_data"
    }
   ],
   "source": [
    "#show the missing values in a plot\n",
    "plt.figure(figsize=(12, 6))\n",
    "plt.xticks(rotation=\"90\")\n",
    "sns.barplot(x=test_missing.index, y=test_missing)"
   ]
  },
  {
   "cell_type": "code",
   "execution_count": 25,
   "id": "ef5fadd5",
   "metadata": {
    "execution": {
     "iopub.execute_input": "2023-01-31T22:35:53.236945Z",
     "iopub.status.busy": "2023-01-31T22:35:53.236501Z",
     "iopub.status.idle": "2023-01-31T22:35:53.244343Z",
     "shell.execute_reply": "2023-01-31T22:35:53.243078Z"
    },
    "papermill": {
     "duration": 0.031473,
     "end_time": "2023-01-31T22:35:53.246750",
     "exception": false,
     "start_time": "2023-01-31T22:35:53.215277",
     "status": "completed"
    },
    "tags": []
   },
   "outputs": [
    {
     "data": {
      "text/plain": [
       "Index(['Cabin'], dtype='object')"
      ]
     },
     "execution_count": 25,
     "metadata": {},
     "output_type": "execute_result"
    }
   ],
   "source": [
    "test_missing[test_missing > 50].index"
   ]
  },
  {
   "cell_type": "code",
   "execution_count": 26,
   "id": "6b010e08",
   "metadata": {
    "execution": {
     "iopub.execute_input": "2023-01-31T22:35:53.288472Z",
     "iopub.status.busy": "2023-01-31T22:35:53.288057Z",
     "iopub.status.idle": "2023-01-31T22:35:53.300939Z",
     "shell.execute_reply": "2023-01-31T22:35:53.299646Z"
    },
    "papermill": {
     "duration": 0.03631,
     "end_time": "2023-01-31T22:35:53.303063",
     "exception": false,
     "start_time": "2023-01-31T22:35:53.266753",
     "status": "completed"
    },
    "tags": []
   },
   "outputs": [
    {
     "data": {
      "text/plain": [
       "87"
      ]
     },
     "execution_count": 26,
     "metadata": {},
     "output_type": "execute_result"
    }
   ],
   "source": [
    "# Drop missing that more than 50% and Ticket and Name which contain much unique in the dataset\n",
    "new_test_data = test_data.drop(columns='Cabin', axis=0)\n",
    "new_test_data = new_test_data.drop(columns='Ticket', axis=0)\n",
    "new_test_data = new_test_data.drop(columns='Name', axis=0)\n",
    "new_test_data.isnull().sum().sum()"
   ]
  },
  {
   "cell_type": "code",
   "execution_count": 27,
   "id": "868be96f",
   "metadata": {
    "execution": {
     "iopub.execute_input": "2023-01-31T22:35:53.345631Z",
     "iopub.status.busy": "2023-01-31T22:35:53.344263Z",
     "iopub.status.idle": "2023-01-31T22:35:53.358952Z",
     "shell.execute_reply": "2023-01-31T22:35:53.357675Z"
    },
    "papermill": {
     "duration": 0.038733,
     "end_time": "2023-01-31T22:35:53.361648",
     "exception": false,
     "start_time": "2023-01-31T22:35:53.322915",
     "status": "completed"
    },
    "tags": []
   },
   "outputs": [
    {
     "data": {
      "text/plain": [
       "0"
      ]
     },
     "execution_count": 27,
     "metadata": {},
     "output_type": "execute_result"
    }
   ],
   "source": [
    "# Fill NA with the average of age for numeric\n",
    "new_test_data['Age'] = new_test_data['Age'].fillna(int(new_test_data['Age'].mean()))\n",
    "new_test_data['Fare'] = new_test_data['Fare'].fillna(new_test_data['Fare'].mean())\n",
    "\n",
    "# Fill NA with most frequent for category\n",
    "new_test_data['Embarked'] = new_test_data['Embarked'].fillna(new_test_data['Embarked'].value_counts().index[0])\n",
    "\n",
    "new_test_data.isnull().sum().sum()"
   ]
  },
  {
   "cell_type": "code",
   "execution_count": 28,
   "id": "ab6b3157",
   "metadata": {
    "execution": {
     "iopub.execute_input": "2023-01-31T22:35:53.404478Z",
     "iopub.status.busy": "2023-01-31T22:35:53.404064Z",
     "iopub.status.idle": "2023-01-31T22:35:53.413290Z",
     "shell.execute_reply": "2023-01-31T22:35:53.412130Z"
    },
    "papermill": {
     "duration": 0.033927,
     "end_time": "2023-01-31T22:35:53.415636",
     "exception": false,
     "start_time": "2023-01-31T22:35:53.381709",
     "status": "completed"
    },
    "tags": []
   },
   "outputs": [
    {
     "data": {
      "text/plain": [
       "PassengerId    0\n",
       "Survived       0\n",
       "dtype: int64"
      ]
     },
     "execution_count": 28,
     "metadata": {},
     "output_type": "execute_result"
    }
   ],
   "source": [
    "# Gender\n",
    "gender_data.isna().sum()"
   ]
  },
  {
   "cell_type": "markdown",
   "id": "6c5d7474",
   "metadata": {
    "papermill": {
     "duration": 0.019696,
     "end_time": "2023-01-31T22:35:53.456250",
     "exception": false,
     "start_time": "2023-01-31T22:35:53.436554",
     "status": "completed"
    },
    "tags": []
   },
   "source": [
    "# **3) Data Analytsis**"
   ]
  },
  {
   "cell_type": "markdown",
   "id": "9871650f",
   "metadata": {
    "papermill": {
     "duration": 0.019628,
     "end_time": "2023-01-31T22:35:53.496982",
     "exception": false,
     "start_time": "2023-01-31T22:35:53.477354",
     "status": "completed"
    },
    "tags": []
   },
   "source": [
    "# Before performing some machine learning. We will go through data analytics to understand data more and get insight the data.\n",
    "Train columns dataset:\n",
    "1) Passenger ID <br>\n",
    "2) Survive or not (Survival rate is 38%/ dead 62%) <br>\n",
    "3) PClass (First class has the highest chance to survive with 62%) <br>\n",
    "4) Gender (M:577/ W:314)  <br>\n",
    "5) Age (max:80/ min:0) <br>\n",
    "6) SibSp (Number of Siblings) <br>\n",
    "7) Parch (Number of parents/ children) <br>\n",
    "8) Fare <br>\n",
    "9) Embarked <br>"
   ]
  },
  {
   "cell_type": "code",
   "execution_count": 29,
   "id": "a6a202dd",
   "metadata": {
    "execution": {
     "iopub.execute_input": "2023-01-31T22:35:53.539209Z",
     "iopub.status.busy": "2023-01-31T22:35:53.538750Z",
     "iopub.status.idle": "2023-01-31T22:35:53.551768Z",
     "shell.execute_reply": "2023-01-31T22:35:53.550666Z"
    },
    "papermill": {
     "duration": 0.037886,
     "end_time": "2023-01-31T22:35:53.554813",
     "exception": false,
     "start_time": "2023-01-31T22:35:53.516927",
     "status": "completed"
    },
    "tags": []
   },
   "outputs": [
    {
     "name": "stdout",
     "output_type": "stream",
     "text": [
      "<class 'pandas.core.frame.DataFrame'>\n",
      "RangeIndex: 891 entries, 0 to 890\n",
      "Data columns (total 9 columns):\n",
      " #   Column       Non-Null Count  Dtype  \n",
      "---  ------       --------------  -----  \n",
      " 0   PassengerId  891 non-null    int64  \n",
      " 1   Survived     891 non-null    int64  \n",
      " 2   Pclass       891 non-null    int64  \n",
      " 3   Sex          891 non-null    object \n",
      " 4   Age          891 non-null    float64\n",
      " 5   SibSp        891 non-null    int64  \n",
      " 6   Parch        891 non-null    int64  \n",
      " 7   Fare         891 non-null    float64\n",
      " 8   Embarked     891 non-null    object \n",
      "dtypes: float64(2), int64(5), object(2)\n",
      "memory usage: 62.8+ KB\n"
     ]
    }
   ],
   "source": [
    "new_train_data.info()"
   ]
  },
  {
   "cell_type": "code",
   "execution_count": 30,
   "id": "df040493",
   "metadata": {
    "execution": {
     "iopub.execute_input": "2023-01-31T22:35:53.597679Z",
     "iopub.status.busy": "2023-01-31T22:35:53.597256Z",
     "iopub.status.idle": "2023-01-31T22:35:53.632485Z",
     "shell.execute_reply": "2023-01-31T22:35:53.631300Z"
    },
    "papermill": {
     "duration": 0.059924,
     "end_time": "2023-01-31T22:35:53.635326",
     "exception": false,
     "start_time": "2023-01-31T22:35:53.575402",
     "status": "completed"
    },
    "tags": []
   },
   "outputs": [
    {
     "data": {
      "text/html": [
       "<div>\n",
       "<style scoped>\n",
       "    .dataframe tbody tr th:only-of-type {\n",
       "        vertical-align: middle;\n",
       "    }\n",
       "\n",
       "    .dataframe tbody tr th {\n",
       "        vertical-align: top;\n",
       "    }\n",
       "\n",
       "    .dataframe thead th {\n",
       "        text-align: right;\n",
       "    }\n",
       "</style>\n",
       "<table border=\"1\" class=\"dataframe\">\n",
       "  <thead>\n",
       "    <tr style=\"text-align: right;\">\n",
       "      <th></th>\n",
       "      <th>PassengerId</th>\n",
       "      <th>Survived</th>\n",
       "      <th>Pclass</th>\n",
       "      <th>Age</th>\n",
       "      <th>SibSp</th>\n",
       "      <th>Parch</th>\n",
       "      <th>Fare</th>\n",
       "    </tr>\n",
       "  </thead>\n",
       "  <tbody>\n",
       "    <tr>\n",
       "      <th>count</th>\n",
       "      <td>891.000000</td>\n",
       "      <td>891.000000</td>\n",
       "      <td>891.000000</td>\n",
       "      <td>891.000000</td>\n",
       "      <td>891.000000</td>\n",
       "      <td>891.000000</td>\n",
       "      <td>891.000000</td>\n",
       "    </tr>\n",
       "    <tr>\n",
       "      <th>mean</th>\n",
       "      <td>446.000000</td>\n",
       "      <td>0.383838</td>\n",
       "      <td>2.308642</td>\n",
       "      <td>29.699118</td>\n",
       "      <td>0.523008</td>\n",
       "      <td>0.381594</td>\n",
       "      <td>32.204208</td>\n",
       "    </tr>\n",
       "    <tr>\n",
       "      <th>std</th>\n",
       "      <td>257.353842</td>\n",
       "      <td>0.486592</td>\n",
       "      <td>0.836071</td>\n",
       "      <td>13.002015</td>\n",
       "      <td>1.102743</td>\n",
       "      <td>0.806057</td>\n",
       "      <td>49.693429</td>\n",
       "    </tr>\n",
       "    <tr>\n",
       "      <th>min</th>\n",
       "      <td>1.000000</td>\n",
       "      <td>0.000000</td>\n",
       "      <td>1.000000</td>\n",
       "      <td>0.420000</td>\n",
       "      <td>0.000000</td>\n",
       "      <td>0.000000</td>\n",
       "      <td>0.000000</td>\n",
       "    </tr>\n",
       "    <tr>\n",
       "      <th>25%</th>\n",
       "      <td>223.500000</td>\n",
       "      <td>0.000000</td>\n",
       "      <td>2.000000</td>\n",
       "      <td>22.000000</td>\n",
       "      <td>0.000000</td>\n",
       "      <td>0.000000</td>\n",
       "      <td>7.910400</td>\n",
       "    </tr>\n",
       "    <tr>\n",
       "      <th>50%</th>\n",
       "      <td>446.000000</td>\n",
       "      <td>0.000000</td>\n",
       "      <td>3.000000</td>\n",
       "      <td>29.699118</td>\n",
       "      <td>0.000000</td>\n",
       "      <td>0.000000</td>\n",
       "      <td>14.454200</td>\n",
       "    </tr>\n",
       "    <tr>\n",
       "      <th>75%</th>\n",
       "      <td>668.500000</td>\n",
       "      <td>1.000000</td>\n",
       "      <td>3.000000</td>\n",
       "      <td>35.000000</td>\n",
       "      <td>1.000000</td>\n",
       "      <td>0.000000</td>\n",
       "      <td>31.000000</td>\n",
       "    </tr>\n",
       "    <tr>\n",
       "      <th>max</th>\n",
       "      <td>891.000000</td>\n",
       "      <td>1.000000</td>\n",
       "      <td>3.000000</td>\n",
       "      <td>80.000000</td>\n",
       "      <td>8.000000</td>\n",
       "      <td>6.000000</td>\n",
       "      <td>512.329200</td>\n",
       "    </tr>\n",
       "  </tbody>\n",
       "</table>\n",
       "</div>"
      ],
      "text/plain": [
       "       PassengerId    Survived      Pclass         Age       SibSp  \\\n",
       "count   891.000000  891.000000  891.000000  891.000000  891.000000   \n",
       "mean    446.000000    0.383838    2.308642   29.699118    0.523008   \n",
       "std     257.353842    0.486592    0.836071   13.002015    1.102743   \n",
       "min       1.000000    0.000000    1.000000    0.420000    0.000000   \n",
       "25%     223.500000    0.000000    2.000000   22.000000    0.000000   \n",
       "50%     446.000000    0.000000    3.000000   29.699118    0.000000   \n",
       "75%     668.500000    1.000000    3.000000   35.000000    1.000000   \n",
       "max     891.000000    1.000000    3.000000   80.000000    8.000000   \n",
       "\n",
       "            Parch        Fare  \n",
       "count  891.000000  891.000000  \n",
       "mean     0.381594   32.204208  \n",
       "std      0.806057   49.693429  \n",
       "min      0.000000    0.000000  \n",
       "25%      0.000000    7.910400  \n",
       "50%      0.000000   14.454200  \n",
       "75%      0.000000   31.000000  \n",
       "max      6.000000  512.329200  "
      ]
     },
     "execution_count": 30,
     "metadata": {},
     "output_type": "execute_result"
    }
   ],
   "source": [
    "new_train_data.describe()"
   ]
  },
  {
   "cell_type": "code",
   "execution_count": 31,
   "id": "4d17e156",
   "metadata": {
    "execution": {
     "iopub.execute_input": "2023-01-31T22:35:53.678182Z",
     "iopub.status.busy": "2023-01-31T22:35:53.677776Z",
     "iopub.status.idle": "2023-01-31T22:35:53.692023Z",
     "shell.execute_reply": "2023-01-31T22:35:53.690824Z"
    },
    "papermill": {
     "duration": 0.038562,
     "end_time": "2023-01-31T22:35:53.694449",
     "exception": false,
     "start_time": "2023-01-31T22:35:53.655887",
     "status": "completed"
    },
    "tags": []
   },
   "outputs": [
    {
     "data": {
      "text/html": [
       "<div>\n",
       "<style scoped>\n",
       "    .dataframe tbody tr th:only-of-type {\n",
       "        vertical-align: middle;\n",
       "    }\n",
       "\n",
       "    .dataframe tbody tr th {\n",
       "        vertical-align: top;\n",
       "    }\n",
       "\n",
       "    .dataframe thead th {\n",
       "        text-align: right;\n",
       "    }\n",
       "</style>\n",
       "<table border=\"1\" class=\"dataframe\">\n",
       "  <thead>\n",
       "    <tr style=\"text-align: right;\">\n",
       "      <th></th>\n",
       "      <th>Percentages</th>\n",
       "    </tr>\n",
       "  </thead>\n",
       "  <tbody>\n",
       "    <tr>\n",
       "      <th>0</th>\n",
       "      <td>0.616162</td>\n",
       "    </tr>\n",
       "    <tr>\n",
       "      <th>1</th>\n",
       "      <td>0.383838</td>\n",
       "    </tr>\n",
       "  </tbody>\n",
       "</table>\n",
       "</div>"
      ],
      "text/plain": [
       "   Percentages\n",
       "0     0.616162\n",
       "1     0.383838"
      ]
     },
     "execution_count": 31,
     "metadata": {},
     "output_type": "execute_result"
    }
   ],
   "source": [
    "perc = []\n",
    "perc.append(np.count_nonzero(new_train_data['Survived']==0) / new_train_data.shape[0])\n",
    "perc.append(np.count_nonzero(new_train_data['Survived']==1) / new_train_data.shape[0])\n",
    "perc\n",
    "\n",
    "#new_train_data['Survived'][new_train_data['Survived'] == 0].count()\n",
    "\n",
    "perc_survical = pd.DataFrame(perc)\n",
    "perc_survical.columns = ['Percentages']\n",
    "perc_survical"
   ]
  },
  {
   "cell_type": "code",
   "execution_count": 32,
   "id": "9931e964",
   "metadata": {
    "execution": {
     "iopub.execute_input": "2023-01-31T22:35:53.738178Z",
     "iopub.status.busy": "2023-01-31T22:35:53.737318Z",
     "iopub.status.idle": "2023-01-31T22:35:53.752113Z",
     "shell.execute_reply": "2023-01-31T22:35:53.751198Z"
    },
    "papermill": {
     "duration": 0.039045,
     "end_time": "2023-01-31T22:35:53.754405",
     "exception": false,
     "start_time": "2023-01-31T22:35:53.715360",
     "status": "completed"
    },
    "tags": []
   },
   "outputs": [
    {
     "data": {
      "text/html": [
       "<div>\n",
       "<style scoped>\n",
       "    .dataframe tbody tr th:only-of-type {\n",
       "        vertical-align: middle;\n",
       "    }\n",
       "\n",
       "    .dataframe tbody tr th {\n",
       "        vertical-align: top;\n",
       "    }\n",
       "\n",
       "    .dataframe thead th {\n",
       "        text-align: right;\n",
       "    }\n",
       "</style>\n",
       "<table border=\"1\" class=\"dataframe\">\n",
       "  <thead>\n",
       "    <tr style=\"text-align: right;\">\n",
       "      <th></th>\n",
       "      <th>Survived</th>\n",
       "    </tr>\n",
       "    <tr>\n",
       "      <th>Pclass</th>\n",
       "      <th></th>\n",
       "    </tr>\n",
       "  </thead>\n",
       "  <tbody>\n",
       "    <tr>\n",
       "      <th>1</th>\n",
       "      <td>0.629630</td>\n",
       "    </tr>\n",
       "    <tr>\n",
       "      <th>2</th>\n",
       "      <td>0.472826</td>\n",
       "    </tr>\n",
       "    <tr>\n",
       "      <th>3</th>\n",
       "      <td>0.242363</td>\n",
       "    </tr>\n",
       "  </tbody>\n",
       "</table>\n",
       "</div>"
      ],
      "text/plain": [
       "        Survived\n",
       "Pclass          \n",
       "1       0.629630\n",
       "2       0.472826\n",
       "3       0.242363"
      ]
     },
     "execution_count": 32,
     "metadata": {},
     "output_type": "execute_result"
    }
   ],
   "source": [
    "new_train_data[['Pclass','Survived']].groupby(['Pclass']).mean().sort_values(by='Survived', ascending=False)"
   ]
  },
  {
   "cell_type": "code",
   "execution_count": 33,
   "id": "777eb36c",
   "metadata": {
    "execution": {
     "iopub.execute_input": "2023-01-31T22:35:53.798241Z",
     "iopub.status.busy": "2023-01-31T22:35:53.797801Z",
     "iopub.status.idle": "2023-01-31T22:35:53.813803Z",
     "shell.execute_reply": "2023-01-31T22:35:53.812521Z"
    },
    "papermill": {
     "duration": 0.041103,
     "end_time": "2023-01-31T22:35:53.816315",
     "exception": false,
     "start_time": "2023-01-31T22:35:53.775212",
     "status": "completed"
    },
    "tags": []
   },
   "outputs": [
    {
     "data": {
      "text/html": [
       "<div>\n",
       "<style scoped>\n",
       "    .dataframe tbody tr th:only-of-type {\n",
       "        vertical-align: middle;\n",
       "    }\n",
       "\n",
       "    .dataframe tbody tr th {\n",
       "        vertical-align: top;\n",
       "    }\n",
       "\n",
       "    .dataframe thead th {\n",
       "        text-align: right;\n",
       "    }\n",
       "</style>\n",
       "<table border=\"1\" class=\"dataframe\">\n",
       "  <thead>\n",
       "    <tr style=\"text-align: right;\">\n",
       "      <th></th>\n",
       "      <th>Survived</th>\n",
       "    </tr>\n",
       "    <tr>\n",
       "      <th>Sex</th>\n",
       "      <th></th>\n",
       "    </tr>\n",
       "  </thead>\n",
       "  <tbody>\n",
       "    <tr>\n",
       "      <th>female</th>\n",
       "      <td>0.742038</td>\n",
       "    </tr>\n",
       "    <tr>\n",
       "      <th>male</th>\n",
       "      <td>0.188908</td>\n",
       "    </tr>\n",
       "  </tbody>\n",
       "</table>\n",
       "</div>"
      ],
      "text/plain": [
       "        Survived\n",
       "Sex             \n",
       "female  0.742038\n",
       "male    0.188908"
      ]
     },
     "execution_count": 33,
     "metadata": {},
     "output_type": "execute_result"
    }
   ],
   "source": [
    "new_train_data[['Sex', 'Survived']].groupby(['Sex']).mean().sort_values(by='Survived', ascending=False)\n",
    "#74% of women survived, using this method works because sum(only 1: 233)/count (314)\n",
    "#18% of men survived"
   ]
  },
  {
   "cell_type": "code",
   "execution_count": 34,
   "id": "408ed177",
   "metadata": {
    "execution": {
     "iopub.execute_input": "2023-01-31T22:35:53.862264Z",
     "iopub.status.busy": "2023-01-31T22:35:53.861853Z",
     "iopub.status.idle": "2023-01-31T22:35:53.875959Z",
     "shell.execute_reply": "2023-01-31T22:35:53.874660Z"
    },
    "papermill": {
     "duration": 0.040263,
     "end_time": "2023-01-31T22:35:53.878455",
     "exception": false,
     "start_time": "2023-01-31T22:35:53.838192",
     "status": "completed"
    },
    "tags": []
   },
   "outputs": [
    {
     "data": {
      "text/html": [
       "<div>\n",
       "<style scoped>\n",
       "    .dataframe tbody tr th:only-of-type {\n",
       "        vertical-align: middle;\n",
       "    }\n",
       "\n",
       "    .dataframe tbody tr th {\n",
       "        vertical-align: top;\n",
       "    }\n",
       "\n",
       "    .dataframe thead th {\n",
       "        text-align: right;\n",
       "    }\n",
       "</style>\n",
       "<table border=\"1\" class=\"dataframe\">\n",
       "  <thead>\n",
       "    <tr style=\"text-align: right;\">\n",
       "      <th></th>\n",
       "      <th>Survived</th>\n",
       "    </tr>\n",
       "    <tr>\n",
       "      <th>SibSp</th>\n",
       "      <th></th>\n",
       "    </tr>\n",
       "  </thead>\n",
       "  <tbody>\n",
       "    <tr>\n",
       "      <th>1</th>\n",
       "      <td>0.535885</td>\n",
       "    </tr>\n",
       "    <tr>\n",
       "      <th>2</th>\n",
       "      <td>0.464286</td>\n",
       "    </tr>\n",
       "    <tr>\n",
       "      <th>0</th>\n",
       "      <td>0.345395</td>\n",
       "    </tr>\n",
       "    <tr>\n",
       "      <th>3</th>\n",
       "      <td>0.250000</td>\n",
       "    </tr>\n",
       "    <tr>\n",
       "      <th>4</th>\n",
       "      <td>0.166667</td>\n",
       "    </tr>\n",
       "    <tr>\n",
       "      <th>5</th>\n",
       "      <td>0.000000</td>\n",
       "    </tr>\n",
       "    <tr>\n",
       "      <th>8</th>\n",
       "      <td>0.000000</td>\n",
       "    </tr>\n",
       "  </tbody>\n",
       "</table>\n",
       "</div>"
      ],
      "text/plain": [
       "       Survived\n",
       "SibSp          \n",
       "1      0.535885\n",
       "2      0.464286\n",
       "0      0.345395\n",
       "3      0.250000\n",
       "4      0.166667\n",
       "5      0.000000\n",
       "8      0.000000"
      ]
     },
     "execution_count": 34,
     "metadata": {},
     "output_type": "execute_result"
    }
   ],
   "source": [
    "new_train_data[['SibSp', 'Survived']].groupby(['SibSp']).mean().sort_values(by='Survived', ascending=False)"
   ]
  },
  {
   "cell_type": "code",
   "execution_count": 35,
   "id": "4aca3d80",
   "metadata": {
    "execution": {
     "iopub.execute_input": "2023-01-31T22:35:53.925891Z",
     "iopub.status.busy": "2023-01-31T22:35:53.924622Z",
     "iopub.status.idle": "2023-01-31T22:35:53.940125Z",
     "shell.execute_reply": "2023-01-31T22:35:53.938835Z"
    },
    "papermill": {
     "duration": 0.041874,
     "end_time": "2023-01-31T22:35:53.942666",
     "exception": false,
     "start_time": "2023-01-31T22:35:53.900792",
     "status": "completed"
    },
    "tags": []
   },
   "outputs": [
    {
     "data": {
      "text/html": [
       "<div>\n",
       "<style scoped>\n",
       "    .dataframe tbody tr th:only-of-type {\n",
       "        vertical-align: middle;\n",
       "    }\n",
       "\n",
       "    .dataframe tbody tr th {\n",
       "        vertical-align: top;\n",
       "    }\n",
       "\n",
       "    .dataframe thead th {\n",
       "        text-align: right;\n",
       "    }\n",
       "</style>\n",
       "<table border=\"1\" class=\"dataframe\">\n",
       "  <thead>\n",
       "    <tr style=\"text-align: right;\">\n",
       "      <th></th>\n",
       "      <th>Survived</th>\n",
       "    </tr>\n",
       "    <tr>\n",
       "      <th>Parch</th>\n",
       "      <th></th>\n",
       "    </tr>\n",
       "  </thead>\n",
       "  <tbody>\n",
       "    <tr>\n",
       "      <th>3</th>\n",
       "      <td>0.600000</td>\n",
       "    </tr>\n",
       "    <tr>\n",
       "      <th>1</th>\n",
       "      <td>0.550847</td>\n",
       "    </tr>\n",
       "    <tr>\n",
       "      <th>2</th>\n",
       "      <td>0.500000</td>\n",
       "    </tr>\n",
       "    <tr>\n",
       "      <th>0</th>\n",
       "      <td>0.343658</td>\n",
       "    </tr>\n",
       "    <tr>\n",
       "      <th>5</th>\n",
       "      <td>0.200000</td>\n",
       "    </tr>\n",
       "    <tr>\n",
       "      <th>4</th>\n",
       "      <td>0.000000</td>\n",
       "    </tr>\n",
       "    <tr>\n",
       "      <th>6</th>\n",
       "      <td>0.000000</td>\n",
       "    </tr>\n",
       "  </tbody>\n",
       "</table>\n",
       "</div>"
      ],
      "text/plain": [
       "       Survived\n",
       "Parch          \n",
       "3      0.600000\n",
       "1      0.550847\n",
       "2      0.500000\n",
       "0      0.343658\n",
       "5      0.200000\n",
       "4      0.000000\n",
       "6      0.000000"
      ]
     },
     "execution_count": 35,
     "metadata": {},
     "output_type": "execute_result"
    }
   ],
   "source": [
    "new_train_data[['Parch','Survived']].groupby(['Parch']).mean().sort_values(by='Survived', ascending=False)"
   ]
  },
  {
   "cell_type": "code",
   "execution_count": 36,
   "id": "11b7301c",
   "metadata": {
    "execution": {
     "iopub.execute_input": "2023-01-31T22:35:53.988647Z",
     "iopub.status.busy": "2023-01-31T22:35:53.987833Z",
     "iopub.status.idle": "2023-01-31T22:35:54.000950Z",
     "shell.execute_reply": "2023-01-31T22:35:53.999948Z"
    },
    "papermill": {
     "duration": 0.039119,
     "end_time": "2023-01-31T22:35:54.003805",
     "exception": false,
     "start_time": "2023-01-31T22:35:53.964686",
     "status": "completed"
    },
    "tags": []
   },
   "outputs": [
    {
     "data": {
      "text/html": [
       "<div>\n",
       "<style scoped>\n",
       "    .dataframe tbody tr th:only-of-type {\n",
       "        vertical-align: middle;\n",
       "    }\n",
       "\n",
       "    .dataframe tbody tr th {\n",
       "        vertical-align: top;\n",
       "    }\n",
       "\n",
       "    .dataframe thead th {\n",
       "        text-align: right;\n",
       "    }\n",
       "</style>\n",
       "<table border=\"1\" class=\"dataframe\">\n",
       "  <thead>\n",
       "    <tr style=\"text-align: right;\">\n",
       "      <th></th>\n",
       "      <th>Survived</th>\n",
       "    </tr>\n",
       "    <tr>\n",
       "      <th>Parch</th>\n",
       "      <th></th>\n",
       "    </tr>\n",
       "  </thead>\n",
       "  <tbody>\n",
       "    <tr>\n",
       "      <th>3</th>\n",
       "      <td>0.600000</td>\n",
       "    </tr>\n",
       "    <tr>\n",
       "      <th>1</th>\n",
       "      <td>0.550847</td>\n",
       "    </tr>\n",
       "    <tr>\n",
       "      <th>2</th>\n",
       "      <td>0.500000</td>\n",
       "    </tr>\n",
       "    <tr>\n",
       "      <th>0</th>\n",
       "      <td>0.343658</td>\n",
       "    </tr>\n",
       "    <tr>\n",
       "      <th>5</th>\n",
       "      <td>0.200000</td>\n",
       "    </tr>\n",
       "    <tr>\n",
       "      <th>4</th>\n",
       "      <td>0.000000</td>\n",
       "    </tr>\n",
       "    <tr>\n",
       "      <th>6</th>\n",
       "      <td>0.000000</td>\n",
       "    </tr>\n",
       "  </tbody>\n",
       "</table>\n",
       "</div>"
      ],
      "text/plain": [
       "       Survived\n",
       "Parch          \n",
       "3      0.600000\n",
       "1      0.550847\n",
       "2      0.500000\n",
       "0      0.343658\n",
       "5      0.200000\n",
       "4      0.000000\n",
       "6      0.000000"
      ]
     },
     "execution_count": 36,
     "metadata": {},
     "output_type": "execute_result"
    }
   ],
   "source": [
    "new_train_data[['Parch','Survived']].groupby(['Parch']).mean().sort_values(by='Survived', ascending=False)"
   ]
  },
  {
   "cell_type": "markdown",
   "id": "24f764e8",
   "metadata": {
    "papermill": {
     "duration": 0.021528,
     "end_time": "2023-01-31T22:35:54.047175",
     "exception": false,
     "start_time": "2023-01-31T22:35:54.025647",
     "status": "completed"
    },
    "tags": []
   },
   "source": [
    "# Observation by visualization"
   ]
  },
  {
   "cell_type": "code",
   "execution_count": 37,
   "id": "76c4c9f2",
   "metadata": {
    "execution": {
     "iopub.execute_input": "2023-01-31T22:35:54.094826Z",
     "iopub.status.busy": "2023-01-31T22:35:54.094009Z",
     "iopub.status.idle": "2023-01-31T22:35:54.464797Z",
     "shell.execute_reply": "2023-01-31T22:35:54.463564Z"
    },
    "papermill": {
     "duration": 0.397824,
     "end_time": "2023-01-31T22:35:54.467761",
     "exception": false,
     "start_time": "2023-01-31T22:35:54.069937",
     "status": "completed"
    },
    "tags": []
   },
   "outputs": [
    {
     "data": {
      "text/plain": [
       "<AxesSubplot:xlabel='Pclass', ylabel='Fare'>"
      ]
     },
     "execution_count": 37,
     "metadata": {},
     "output_type": "execute_result"
    },
    {
     "data": {
      "image/png": "[encoded data removed]",
      "text/plain": [
       "<Figure size 432x288 with 1 Axes>"
      ]
     },
     "metadata": {
      "needs_background": "light"
     },
     "output_type": "display_data"
    }
   ],
   "source": [
    "import seaborn as sns\n",
    "sns.scatterplot(data=new_train_data, x=\"Pclass\", y=\"Fare\", hue=\"Survived\")"
   ]
  },
  {
   "cell_type": "code",
   "execution_count": 38,
   "id": "e0569612",
   "metadata": {
    "execution": {
     "iopub.execute_input": "2023-01-31T22:35:54.515667Z",
     "iopub.status.busy": "2023-01-31T22:35:54.515224Z",
     "iopub.status.idle": "2023-01-31T22:35:54.914960Z",
     "shell.execute_reply": "2023-01-31T22:35:54.913753Z"
    },
    "papermill": {
     "duration": 0.4267,
     "end_time": "2023-01-31T22:35:54.917748",
     "exception": false,
     "start_time": "2023-01-31T22:35:54.491048",
     "status": "completed"
    },
    "tags": []
   },
   "outputs": [
    {
     "data": {
      "text/plain": [
       "<seaborn.axisgrid.FacetGrid at 0x7f53fa4d3110>"
      ]
     },
     "execution_count": 38,
     "metadata": {},
     "output_type": "execute_result"
    },
    {
     "data": {
      "image/png": "[encoded data removed]",
      "text/plain": [
       "<Figure size 432x216 with 2 Axes>"
      ]
     },
     "metadata": {
      "needs_background": "light"
     },
     "output_type": "display_data"
    }
   ],
   "source": [
    "g = sns.FacetGrid(new_train_data, col='Survived')\n",
    "g.map(plt.hist, 'Age', bins=20)"
   ]
  },
  {
   "cell_type": "code",
   "execution_count": 39,
   "id": "b0b4733b",
   "metadata": {
    "execution": {
     "iopub.execute_input": "2023-01-31T22:35:54.964672Z",
     "iopub.status.busy": "2023-01-31T22:35:54.964179Z",
     "iopub.status.idle": "2023-01-31T22:35:55.307937Z",
     "shell.execute_reply": "2023-01-31T22:35:55.306651Z"
    },
    "papermill": {
     "duration": 0.370536,
     "end_time": "2023-01-31T22:35:55.310704",
     "exception": false,
     "start_time": "2023-01-31T22:35:54.940168",
     "status": "completed"
    },
    "tags": []
   },
   "outputs": [
    {
     "data": {
      "text/plain": [
       "<seaborn.axisgrid.FacetGrid at 0x7f53fa2d72d0>"
      ]
     },
     "execution_count": 39,
     "metadata": {},
     "output_type": "execute_result"
    },
    {
     "data": {
      "image/png": "[encoded data removed]",
      "text/plain": [
       "<Figure size 432x216 with 2 Axes>"
      ]
     },
     "metadata": {
      "needs_background": "light"
     },
     "output_type": "display_data"
    }
   ],
   "source": [
    "g = sns.FacetGrid(new_train_data, col='Survived')\n",
    "g.map(plt.hist, 'Embarked', bins=20)"
   ]
  },
  {
   "cell_type": "code",
   "execution_count": 40,
   "id": "52ed29e9",
   "metadata": {
    "execution": {
     "iopub.execute_input": "2023-01-31T22:35:55.360400Z",
     "iopub.status.busy": "2023-01-31T22:35:55.359453Z",
     "iopub.status.idle": "2023-01-31T22:35:56.430509Z",
     "shell.execute_reply": "2023-01-31T22:35:56.429095Z"
    },
    "papermill": {
     "duration": 1.09925,
     "end_time": "2023-01-31T22:35:56.433148",
     "exception": false,
     "start_time": "2023-01-31T22:35:55.333898",
     "status": "completed"
    },
    "tags": []
   },
   "outputs": [
    {
     "name": "stderr",
     "output_type": "stream",
     "text": [
      "/opt/conda/lib/python3.7/site-packages/seaborn/axisgrid.py:337: UserWarning: The `size` parameter has been renamed to `height`; please update your code.\n",
      "  warnings.warn(msg, UserWarning)\n",
      "/opt/conda/lib/python3.7/site-packages/seaborn/axisgrid.py:670: UserWarning: Using the pointplot function without specifying `order` is likely to produce an incorrect plot.\n",
      "  warnings.warn(warning)\n",
      "/opt/conda/lib/python3.7/site-packages/seaborn/axisgrid.py:675: UserWarning: Using the pointplot function without specifying `hue_order` is likely to produce an incorrect plot.\n",
      "  warnings.warn(warning)\n"
     ]
    },
    {
     "data": {
      "text/plain": [
       "<seaborn.axisgrid.FacetGrid at 0x7f53fa33de90>"
      ]
     },
     "execution_count": 40,
     "metadata": {},
     "output_type": "execute_result"
    },
    {
     "data": {
      "image/png": "[encoded data removed]",
      "text/plain": [
       "<Figure size 830.82x158.4 with 3 Axes>"
      ]
     },
     "metadata": {
      "needs_background": "light"
     },
     "output_type": "display_data"
    }
   ],
   "source": [
    "grid = sns.FacetGrid(new_train_data, col='Embarked', size=2.2, aspect=1.6)\n",
    "grid.map(sns.pointplot, 'Pclass', 'Survived','Sex', palette='colorblind')\n",
    "grid.add_legend()"
   ]
  },
  {
   "cell_type": "code",
   "execution_count": 41,
   "id": "bec7cfd7",
   "metadata": {
    "execution": {
     "iopub.execute_input": "2023-01-31T22:35:56.482556Z",
     "iopub.status.busy": "2023-01-31T22:35:56.482141Z",
     "iopub.status.idle": "2023-01-31T22:35:56.732791Z",
     "shell.execute_reply": "2023-01-31T22:35:56.731737Z"
    },
    "papermill": {
     "duration": 0.277697,
     "end_time": "2023-01-31T22:35:56.735523",
     "exception": false,
     "start_time": "2023-01-31T22:35:56.457826",
     "status": "completed"
    },
    "tags": []
   },
   "outputs": [
    {
     "data": {
      "text/plain": [
       "<AxesSubplot:xlabel='Fare', ylabel='Age'>"
      ]
     },
     "execution_count": 41,
     "metadata": {},
     "output_type": "execute_result"
    },
    {
     "data": {
      "image/png": "[encoded data removed]",
      "text/plain": [
       "<Figure size 432x288 with 1 Axes>"
      ]
     },
     "metadata": {
      "needs_background": "light"
     },
     "output_type": "display_data"
    }
   ],
   "source": [
    "sns.scatterplot(data=new_train_data, x='Fare', y='Age')"
   ]
  },
  {
   "cell_type": "code",
   "execution_count": 42,
   "id": "eb014242",
   "metadata": {
    "execution": {
     "iopub.execute_input": "2023-01-31T22:35:56.785686Z",
     "iopub.status.busy": "2023-01-31T22:35:56.784479Z",
     "iopub.status.idle": "2023-01-31T22:35:56.798720Z",
     "shell.execute_reply": "2023-01-31T22:35:56.796965Z"
    },
    "papermill": {
     "duration": 0.042063,
     "end_time": "2023-01-31T22:35:56.801733",
     "exception": false,
     "start_time": "2023-01-31T22:35:56.759670",
     "status": "completed"
    },
    "tags": []
   },
   "outputs": [
    {
     "name": "stdout",
     "output_type": "stream",
     "text": [
      "<class 'pandas.core.frame.DataFrame'>\n",
      "RangeIndex: 418 entries, 0 to 417\n",
      "Data columns (total 8 columns):\n",
      " #   Column       Non-Null Count  Dtype  \n",
      "---  ------       --------------  -----  \n",
      " 0   PassengerId  418 non-null    int64  \n",
      " 1   Pclass       418 non-null    int64  \n",
      " 2   Sex          418 non-null    object \n",
      " 3   Age          418 non-null    float64\n",
      " 4   SibSp        418 non-null    int64  \n",
      " 5   Parch        418 non-null    int64  \n",
      " 6   Fare         418 non-null    float64\n",
      " 7   Embarked     418 non-null    object \n",
      "dtypes: float64(2), int64(4), object(2)\n",
      "memory usage: 26.2+ KB\n"
     ]
    }
   ],
   "source": [
    "new_test_data.info()"
   ]
  },
  {
   "cell_type": "markdown",
   "id": "b72e2933",
   "metadata": {
    "papermill": {
     "duration": 0.023319,
     "end_time": "2023-01-31T22:35:56.848581",
     "exception": false,
     "start_time": "2023-01-31T22:35:56.825262",
     "status": "completed"
    },
    "tags": []
   },
   "source": [
    "# **4) Data Preprocessing**"
   ]
  },
  {
   "cell_type": "markdown",
   "id": "7511e7dc",
   "metadata": {
    "papermill": {
     "duration": 0.023238,
     "end_time": "2023-01-31T22:35:56.895962",
     "exception": false,
     "start_time": "2023-01-31T22:35:56.872724",
     "status": "completed"
    },
    "tags": []
   },
   "source": [
    "For data preprocessing we have to dummy the category into number."
   ]
  },
  {
   "cell_type": "markdown",
   "id": "e3210119",
   "metadata": {
    "papermill": {
     "duration": 0.023094,
     "end_time": "2023-01-31T22:35:56.942437",
     "exception": false,
     "start_time": "2023-01-31T22:35:56.919343",
     "status": "completed"
    },
    "tags": []
   },
   "source": [
    "**Train dataset**"
   ]
  },
  {
   "cell_type": "code",
   "execution_count": 43,
   "id": "4e0b97e5",
   "metadata": {
    "execution": {
     "iopub.execute_input": "2023-01-31T22:35:56.991899Z",
     "iopub.status.busy": "2023-01-31T22:35:56.990865Z",
     "iopub.status.idle": "2023-01-31T22:35:57.006115Z",
     "shell.execute_reply": "2023-01-31T22:35:57.005142Z"
    },
    "papermill": {
     "duration": 0.04255,
     "end_time": "2023-01-31T22:35:57.008386",
     "exception": false,
     "start_time": "2023-01-31T22:35:56.965836",
     "status": "completed"
    },
    "tags": []
   },
   "outputs": [
    {
     "data": {
      "text/html": [
       "<div>\n",
       "<style scoped>\n",
       "    .dataframe tbody tr th:only-of-type {\n",
       "        vertical-align: middle;\n",
       "    }\n",
       "\n",
       "    .dataframe tbody tr th {\n",
       "        vertical-align: top;\n",
       "    }\n",
       "\n",
       "    .dataframe thead th {\n",
       "        text-align: right;\n",
       "    }\n",
       "</style>\n",
       "<table border=\"1\" class=\"dataframe\">\n",
       "  <thead>\n",
       "    <tr style=\"text-align: right;\">\n",
       "      <th></th>\n",
       "      <th>PassengerId</th>\n",
       "      <th>Survived</th>\n",
       "      <th>Pclass</th>\n",
       "      <th>Sex</th>\n",
       "      <th>Age</th>\n",
       "      <th>SibSp</th>\n",
       "      <th>Parch</th>\n",
       "      <th>Fare</th>\n",
       "      <th>Embarked</th>\n",
       "    </tr>\n",
       "  </thead>\n",
       "  <tbody>\n",
       "    <tr>\n",
       "      <th>0</th>\n",
       "      <td>1</td>\n",
       "      <td>0</td>\n",
       "      <td>3</td>\n",
       "      <td>male</td>\n",
       "      <td>22.0</td>\n",
       "      <td>1</td>\n",
       "      <td>0</td>\n",
       "      <td>7.2500</td>\n",
       "      <td>S</td>\n",
       "    </tr>\n",
       "    <tr>\n",
       "      <th>1</th>\n",
       "      <td>2</td>\n",
       "      <td>1</td>\n",
       "      <td>1</td>\n",
       "      <td>female</td>\n",
       "      <td>38.0</td>\n",
       "      <td>1</td>\n",
       "      <td>0</td>\n",
       "      <td>71.2833</td>\n",
       "      <td>C</td>\n",
       "    </tr>\n",
       "    <tr>\n",
       "      <th>2</th>\n",
       "      <td>3</td>\n",
       "      <td>1</td>\n",
       "      <td>3</td>\n",
       "      <td>female</td>\n",
       "      <td>26.0</td>\n",
       "      <td>0</td>\n",
       "      <td>0</td>\n",
       "      <td>7.9250</td>\n",
       "      <td>S</td>\n",
       "    </tr>\n",
       "    <tr>\n",
       "      <th>3</th>\n",
       "      <td>4</td>\n",
       "      <td>1</td>\n",
       "      <td>1</td>\n",
       "      <td>female</td>\n",
       "      <td>35.0</td>\n",
       "      <td>1</td>\n",
       "      <td>0</td>\n",
       "      <td>53.1000</td>\n",
       "      <td>S</td>\n",
       "    </tr>\n",
       "    <tr>\n",
       "      <th>4</th>\n",
       "      <td>5</td>\n",
       "      <td>0</td>\n",
       "      <td>3</td>\n",
       "      <td>male</td>\n",
       "      <td>35.0</td>\n",
       "      <td>0</td>\n",
       "      <td>0</td>\n",
       "      <td>8.0500</td>\n",
       "      <td>S</td>\n",
       "    </tr>\n",
       "  </tbody>\n",
       "</table>\n",
       "</div>"
      ],
      "text/plain": [
       "   PassengerId  Survived  Pclass     Sex   Age  SibSp  Parch     Fare Embarked\n",
       "0            1         0       3    male  22.0      1      0   7.2500        S\n",
       "1            2         1       1  female  38.0      1      0  71.2833        C\n",
       "2            3         1       3  female  26.0      0      0   7.9250        S\n",
       "3            4         1       1  female  35.0      1      0  53.1000        S\n",
       "4            5         0       3    male  35.0      0      0   8.0500        S"
      ]
     },
     "execution_count": 43,
     "metadata": {},
     "output_type": "execute_result"
    }
   ],
   "source": [
    "new_train_data.head()"
   ]
  },
  {
   "cell_type": "code",
   "execution_count": 44,
   "id": "266a75dd",
   "metadata": {
    "execution": {
     "iopub.execute_input": "2023-01-31T22:35:57.059872Z",
     "iopub.status.busy": "2023-01-31T22:35:57.059382Z",
     "iopub.status.idle": "2023-01-31T22:35:57.066642Z",
     "shell.execute_reply": "2023-01-31T22:35:57.065645Z"
    },
    "papermill": {
     "duration": 0.039137,
     "end_time": "2023-01-31T22:35:57.071676",
     "exception": false,
     "start_time": "2023-01-31T22:35:57.032539",
     "status": "completed"
    },
    "tags": []
   },
   "outputs": [
    {
     "data": {
      "text/plain": [
       "['Sex', 'Embarked']"
      ]
     },
     "execution_count": 44,
     "metadata": {},
     "output_type": "execute_result"
    }
   ],
   "source": [
    "# Get the category to the list\n",
    "categorical_column=[]\n",
    "for i in new_train_data:\n",
    "    if new_train_data[i].dtype == np.dtype('O'):\n",
    "        categorical_column.append(i)\n",
    "categorical_column"
   ]
  },
  {
   "cell_type": "code",
   "execution_count": 45,
   "id": "a9e82908",
   "metadata": {
    "execution": {
     "iopub.execute_input": "2023-01-31T22:35:57.127078Z",
     "iopub.status.busy": "2023-01-31T22:35:57.126370Z",
     "iopub.status.idle": "2023-01-31T22:35:57.134690Z",
     "shell.execute_reply": "2023-01-31T22:35:57.133436Z"
    },
    "papermill": {
     "duration": 0.039986,
     "end_time": "2023-01-31T22:35:57.137088",
     "exception": false,
     "start_time": "2023-01-31T22:35:57.097102",
     "status": "completed"
    },
    "tags": []
   },
   "outputs": [
    {
     "data": {
      "text/plain": [
       "(891, 9)"
      ]
     },
     "execution_count": 45,
     "metadata": {},
     "output_type": "execute_result"
    }
   ],
   "source": [
    "new_train_data.shape"
   ]
  },
  {
   "cell_type": "code",
   "execution_count": 46,
   "id": "f7ed22c5",
   "metadata": {
    "execution": {
     "iopub.execute_input": "2023-01-31T22:35:57.187970Z",
     "iopub.status.busy": "2023-01-31T22:35:57.186558Z",
     "iopub.status.idle": "2023-01-31T22:35:57.200528Z",
     "shell.execute_reply": "2023-01-31T22:35:57.199174Z"
    },
    "papermill": {
     "duration": 0.041803,
     "end_time": "2023-01-31T22:35:57.202976",
     "exception": false,
     "start_time": "2023-01-31T22:35:57.161173",
     "status": "completed"
    },
    "tags": []
   },
   "outputs": [
    {
     "data": {
      "text/plain": [
       "(891, 12)"
      ]
     },
     "execution_count": 46,
     "metadata": {},
     "output_type": "execute_result"
    }
   ],
   "source": [
    "new_train_clean = pd.get_dummies(new_train_data, columns=categorical_column)\n",
    "new_train_clean.shape"
   ]
  },
  {
   "cell_type": "markdown",
   "id": "ce05a1be",
   "metadata": {
    "papermill": {
     "duration": 0.024223,
     "end_time": "2023-01-31T22:35:57.251119",
     "exception": false,
     "start_time": "2023-01-31T22:35:57.226896",
     "status": "completed"
    },
    "tags": []
   },
   "source": [
    "**Test dataset**"
   ]
  },
  {
   "cell_type": "code",
   "execution_count": 47,
   "id": "30f438cf",
   "metadata": {
    "execution": {
     "iopub.execute_input": "2023-01-31T22:35:57.301810Z",
     "iopub.status.busy": "2023-01-31T22:35:57.300533Z",
     "iopub.status.idle": "2023-01-31T22:35:57.309358Z",
     "shell.execute_reply": "2023-01-31T22:35:57.308366Z"
    },
    "papermill": {
     "duration": 0.036263,
     "end_time": "2023-01-31T22:35:57.311572",
     "exception": false,
     "start_time": "2023-01-31T22:35:57.275309",
     "status": "completed"
    },
    "tags": []
   },
   "outputs": [
    {
     "data": {
      "text/plain": [
       "['Sex', 'Embarked']"
      ]
     },
     "execution_count": 47,
     "metadata": {},
     "output_type": "execute_result"
    }
   ],
   "source": [
    "# Collect the category type to the list and we will dummy the catogorical \n",
    "cat_column = []\n",
    "for i in new_test_data:\n",
    "    if new_test_data[i].dtype == np.dtype('O'):\n",
    "        cat_column.append(i)\n",
    "cat_column"
   ]
  },
  {
   "cell_type": "code",
   "execution_count": 48,
   "id": "e035c468",
   "metadata": {
    "execution": {
     "iopub.execute_input": "2023-01-31T22:35:57.361547Z",
     "iopub.status.busy": "2023-01-31T22:35:57.360874Z",
     "iopub.status.idle": "2023-01-31T22:35:57.367946Z",
     "shell.execute_reply": "2023-01-31T22:35:57.366777Z"
    },
    "papermill": {
     "duration": 0.034707,
     "end_time": "2023-01-31T22:35:57.370117",
     "exception": false,
     "start_time": "2023-01-31T22:35:57.335410",
     "status": "completed"
    },
    "tags": []
   },
   "outputs": [
    {
     "data": {
      "text/plain": [
       "(418, 8)"
      ]
     },
     "execution_count": 48,
     "metadata": {},
     "output_type": "execute_result"
    }
   ],
   "source": [
    "new_test_data.shape"
   ]
  },
  {
   "cell_type": "code",
   "execution_count": 49,
   "id": "75f378ed",
   "metadata": {
    "execution": {
     "iopub.execute_input": "2023-01-31T22:35:57.420201Z",
     "iopub.status.busy": "2023-01-31T22:35:57.419505Z",
     "iopub.status.idle": "2023-01-31T22:35:57.430565Z",
     "shell.execute_reply": "2023-01-31T22:35:57.429557Z"
    },
    "papermill": {
     "duration": 0.038784,
     "end_time": "2023-01-31T22:35:57.432819",
     "exception": false,
     "start_time": "2023-01-31T22:35:57.394035",
     "status": "completed"
    },
    "tags": []
   },
   "outputs": [
    {
     "data": {
      "text/plain": [
       "(418, 11)"
      ]
     },
     "execution_count": 49,
     "metadata": {},
     "output_type": "execute_result"
    }
   ],
   "source": [
    "new_test_clean = pd.get_dummies(new_test_data, columns=cat_column)\n",
    "new_test_clean.shape"
   ]
  },
  {
   "cell_type": "code",
   "execution_count": null,
   "id": "e5cbc28b",
   "metadata": {
    "papermill": {
     "duration": 0.023604,
     "end_time": "2023-01-31T22:35:57.480366",
     "exception": false,
     "start_time": "2023-01-31T22:35:57.456762",
     "status": "completed"
    },
    "tags": []
   },
   "outputs": [],
   "source": []
  },
  {
   "cell_type": "markdown",
   "id": "f97e0ab9",
   "metadata": {
    "papermill": {
     "duration": 0.023661,
     "end_time": "2023-01-31T22:35:57.527906",
     "exception": false,
     "start_time": "2023-01-31T22:35:57.504245",
     "status": "completed"
    },
    "tags": []
   },
   "source": [
    "# **5) Machine Learning**"
   ]
  },
  {
   "cell_type": "code",
   "execution_count": 50,
   "id": "0de85713",
   "metadata": {
    "execution": {
     "iopub.execute_input": "2023-01-31T22:35:57.577496Z",
     "iopub.status.busy": "2023-01-31T22:35:57.577041Z",
     "iopub.status.idle": "2023-01-31T22:35:57.586115Z",
     "shell.execute_reply": "2023-01-31T22:35:57.585305Z"
    },
    "papermill": {
     "duration": 0.036482,
     "end_time": "2023-01-31T22:35:57.588267",
     "exception": false,
     "start_time": "2023-01-31T22:35:57.551785",
     "status": "completed"
    },
    "tags": []
   },
   "outputs": [],
   "source": [
    "X_train = new_train_clean.drop(['Survived','PassengerId'], axis=1)\n",
    "Y_train = new_train_clean['Survived']\n",
    "X_test = new_test_clean.drop('PassengerId', axis=1)\n",
    "Y_test = gender_data['Survived']"
   ]
  },
  {
   "cell_type": "code",
   "execution_count": 51,
   "id": "3f36369b",
   "metadata": {
    "execution": {
     "iopub.execute_input": "2023-01-31T22:35:57.639215Z",
     "iopub.status.busy": "2023-01-31T22:35:57.638236Z",
     "iopub.status.idle": "2023-01-31T22:35:57.645709Z",
     "shell.execute_reply": "2023-01-31T22:35:57.644244Z"
    },
    "papermill": {
     "duration": 0.035068,
     "end_time": "2023-01-31T22:35:57.648083",
     "exception": false,
     "start_time": "2023-01-31T22:35:57.613015",
     "status": "completed"
    },
    "tags": []
   },
   "outputs": [
    {
     "name": "stdout",
     "output_type": "stream",
     "text": [
      "X_train: (891, 10)\n",
      "Y_train: (891,)\n",
      "X_test: (418, 10)\n",
      "Y_test: (418,)\n"
     ]
    }
   ],
   "source": [
    "print(\"X_train:\", X_train.shape)\n",
    "print(\"Y_train:\", Y_train.shape)\n",
    "print(\"X_test:\", X_test.shape)\n",
    "print(\"Y_test:\", Y_test.shape)"
   ]
  },
  {
   "cell_type": "markdown",
   "id": "7a164f69",
   "metadata": {
    "papermill": {
     "duration": 0.023758,
     "end_time": "2023-01-31T22:35:57.697448",
     "exception": false,
     "start_time": "2023-01-31T22:35:57.673690",
     "status": "completed"
    },
    "tags": []
   },
   "source": [
    "**Models:**\n",
    "1) KNeighbors Classifier <br>\n",
    "2) Logistic Regression <br>\n",
    "3) DecisionTree Classifier <br>\n",
    "4) RandomForest Classifier <br>"
   ]
  },
  {
   "cell_type": "code",
   "execution_count": 52,
   "id": "976a339a",
   "metadata": {
    "execution": {
     "iopub.execute_input": "2023-01-31T22:35:57.747982Z",
     "iopub.status.busy": "2023-01-31T22:35:57.747176Z",
     "iopub.status.idle": "2023-01-31T22:35:58.125458Z",
     "shell.execute_reply": "2023-01-31T22:35:58.123701Z"
    },
    "papermill": {
     "duration": 0.407388,
     "end_time": "2023-01-31T22:35:58.129032",
     "exception": false,
     "start_time": "2023-01-31T22:35:57.721644",
     "status": "completed"
    },
    "tags": []
   },
   "outputs": [
    {
     "name": "stdout",
     "output_type": "stream",
     "text": [
      "Accuracy KNN Training: 0.835016835016835\n",
      "Accuracy KNN Testing: 0.6794258373205742\n"
     ]
    }
   ],
   "source": [
    "#1) KNeighbors Classifier\n",
    "from sklearn.neighbors import KNeighborsClassifier\n",
    "from sklearn.metrics import accuracy_score, confusion_matrix\n",
    "\n",
    "knn = KNeighborsClassifier(n_neighbors = 3)\n",
    "\n",
    "# Train the classifier using the training data (fit the model to the data)\n",
    "knn.fit(X_train, Y_train)\n",
    "\n",
    "# Evaluate Performance of the KNN Classifier on the Training Set and the Testing Set\n",
    "# we can do it another way, accuracy training\n",
    "Y_train_pred = knn.predict(X_train)\n",
    "acc_score_knn_train = accuracy_score(Y_train, Y_train_pred)\n",
    "print(\"Accuracy KNN Training:\", acc_score_knn_train)\n",
    "\n",
    "# accuracy testing\n",
    "Y_test_pred = knn.predict(X_test)\n",
    "acc_score_knn_test = accuracy_score(Y_test, Y_test_pred)\n",
    "print(\"Accuracy KNN Testing:\", acc_score_knn_test)"
   ]
  },
  {
   "cell_type": "code",
   "execution_count": 53,
   "id": "e918954e",
   "metadata": {
    "execution": {
     "iopub.execute_input": "2023-01-31T22:35:58.181054Z",
     "iopub.status.busy": "2023-01-31T22:35:58.180642Z",
     "iopub.status.idle": "2023-01-31T22:35:58.231570Z",
     "shell.execute_reply": "2023-01-31T22:35:58.230132Z"
    },
    "papermill": {
     "duration": 0.080511,
     "end_time": "2023-01-31T22:35:58.235265",
     "exception": false,
     "start_time": "2023-01-31T22:35:58.154754",
     "status": "completed"
    },
    "tags": []
   },
   "outputs": [
    {
     "name": "stdout",
     "output_type": "stream",
     "text": [
      "Accuracy Logistic Training: 0.8002244668911336\n",
      "Accuracy Logistic Testing: 0.9425837320574163\n"
     ]
    },
    {
     "name": "stderr",
     "output_type": "stream",
     "text": [
      "/opt/conda/lib/python3.7/site-packages/sklearn/linear_model/_logistic.py:818: ConvergenceWarning: lbfgs failed to converge (status=1):\n",
      "STOP: TOTAL NO. of ITERATIONS REACHED LIMIT.\n",
      "\n",
      "Increase the number of iterations (max_iter) or scale the data as shown in:\n",
      "    https://scikit-learn.org/stable/modules/preprocessing.html\n",
      "Please also refer to the documentation for alternative solver options:\n",
      "    https://scikit-learn.org/stable/modules/linear_model.html#logistic-regression\n",
      "  extra_warning_msg=_LOGISTIC_SOLVER_CONVERGENCE_MSG,\n"
     ]
    }
   ],
   "source": [
    "# 2) Logistic Regression\n",
    "from sklearn.linear_model import LogisticRegression\n",
    "LGR = LogisticRegression()\n",
    "\n",
    "#Train the model on the training set: x_train, y_train\n",
    "LGR.fit(X_train, Y_train)\n",
    "acc_score_lgr_train = LGR.score(X_train, Y_train)\n",
    "print('Accuracy Logistic Training:', acc_score_lgr_train)\n",
    "\n",
    "#Test the model on the testing set: x_test, y_test (applying another )\n",
    "y_test_pred=LGR.predict(X_test)\n",
    "acc_score_lgr_test = np.sum(y_test_pred == Y_test)/Y_test.shape[0]\n",
    "print('Accuracy Logistic Testing:', acc_score_lgr_test)"
   ]
  },
  {
   "cell_type": "code",
   "execution_count": 54,
   "id": "64ed6ed3",
   "metadata": {
    "execution": {
     "iopub.execute_input": "2023-01-31T22:35:58.286690Z",
     "iopub.status.busy": "2023-01-31T22:35:58.285735Z",
     "iopub.status.idle": "2023-01-31T22:35:58.328570Z",
     "shell.execute_reply": "2023-01-31T22:35:58.327314Z"
    },
    "papermill": {
     "duration": 0.071001,
     "end_time": "2023-01-31T22:35:58.331147",
     "exception": false,
     "start_time": "2023-01-31T22:35:58.260146",
     "status": "completed"
    },
    "tags": []
   },
   "outputs": [
    {
     "name": "stdout",
     "output_type": "stream",
     "text": [
      "Accuracy DecisionTree Train: 0.7867564534231201\n",
      "Accuracy DecisionTree Test: 1.0\n"
     ]
    }
   ],
   "source": [
    "#3) DecisionTree Classifier\n",
    "\n",
    "from sklearn.tree import DecisionTreeClassifier\n",
    "# instance of the classifier\n",
    "model_dct = DecisionTreeClassifier(max_depth=1) #will be +1 = 2 clases (survived or not)\n",
    " \n",
    "#Train the model on the training set: x_train, y_train\n",
    "model_dct.fit(X_train, Y_train)\n",
    "acc_score_dct_train = model_dct.score(X_train, Y_train)\n",
    "print(\"Accuracy DecisionTree Train:\", acc_score_dct_train)\n",
    "\n",
    "#Test the model on the testing set: x_test, y_test\n",
    "acc_score_dct_test = model_dct.score(X_test, Y_test)\n",
    "print('Accuracy DecisionTree Test:', acc_score_dct_test)"
   ]
  },
  {
   "cell_type": "code",
   "execution_count": 55,
   "id": "e3adc4a0",
   "metadata": {
    "execution": {
     "iopub.execute_input": "2023-01-31T22:35:58.382217Z",
     "iopub.status.busy": "2023-01-31T22:35:58.381222Z",
     "iopub.status.idle": "2023-01-31T22:35:58.634988Z",
     "shell.execute_reply": "2023-01-31T22:35:58.633688Z"
    },
    "papermill": {
     "duration": 0.282423,
     "end_time": "2023-01-31T22:35:58.637705",
     "exception": false,
     "start_time": "2023-01-31T22:35:58.355282",
     "status": "completed"
    },
    "tags": []
   },
   "outputs": [
    {
     "name": "stdout",
     "output_type": "stream",
     "text": [
      "Accuracy Forest Training: 0.7867564534231201\n",
      "Accuracy Forest Testing: 1.0\n"
     ]
    }
   ],
   "source": [
    "#4) RandomForest Classifier\n",
    "from sklearn.ensemble import RandomForestClassifier\n",
    "\n",
    "RF = RandomForestClassifier(max_depth=1)\n",
    "RF.fit(X_train, Y_train)\n",
    "\n",
    "acc_score_RF_train = RF.score(X_train, Y_train)\n",
    "print(\"Accuracy Forest Training:\", acc_score_RF_train)\n",
    "\n",
    "acc_score_RF_test = RF.score(X_test, Y_test)\n",
    "print(\"Accuracy Forest Testing:\", acc_score_RF_test)"
   ]
  },
  {
   "cell_type": "code",
   "execution_count": 56,
   "id": "cfb9a5a9",
   "metadata": {
    "execution": {
     "iopub.execute_input": "2023-01-31T22:35:58.689466Z",
     "iopub.status.busy": "2023-01-31T22:35:58.688724Z",
     "iopub.status.idle": "2023-01-31T22:35:58.827159Z",
     "shell.execute_reply": "2023-01-31T22:35:58.825645Z"
    },
    "papermill": {
     "duration": 0.167804,
     "end_time": "2023-01-31T22:35:58.829977",
     "exception": false,
     "start_time": "2023-01-31T22:35:58.662173",
     "status": "completed"
    },
    "tags": []
   },
   "outputs": [
    {
     "name": "stdout",
     "output_type": "stream",
     "text": [
      "Accuracy GB Training: 0.8922558922558923\n",
      "Accuracy GB Testing: 0.8923444976076556\n"
     ]
    }
   ],
   "source": [
    "#5) GradientBoosting Classifier\n",
    "from sklearn.ensemble import GradientBoostingClassifier\n",
    "\n",
    "GC = GradientBoostingClassifier()\n",
    "GC.fit(X_train, Y_train)\n",
    "\n",
    "acc_score_GC_train = GC.score(X_train, Y_train)\n",
    "print(\"Accuracy GB Training:\", acc_score_GC_train)\n",
    "\n",
    "acc_score_GC_test = GC.score(X_test, Y_test)\n",
    "print(\"Accuracy GB Testing:\", acc_score_GC_test)"
   ]
  },
  {
   "cell_type": "markdown",
   "id": "058e8ba2",
   "metadata": {
    "papermill": {
     "duration": 0.024164,
     "end_time": "2023-01-31T22:35:58.879240",
     "exception": false,
     "start_time": "2023-01-31T22:35:58.855076",
     "status": "completed"
    },
    "tags": []
   },
   "source": [
    "# 6) Model evaluation\n",
    "To rank the model, we summarize the accuracy score of each model to evaluate the best model to predict our result on titanic data."
   ]
  },
  {
   "cell_type": "code",
   "execution_count": 57,
   "id": "99b92afb",
   "metadata": {
    "execution": {
     "iopub.execute_input": "2023-01-31T22:35:58.932339Z",
     "iopub.status.busy": "2023-01-31T22:35:58.929770Z",
     "iopub.status.idle": "2023-01-31T22:35:58.948744Z",
     "shell.execute_reply": "2023-01-31T22:35:58.947469Z"
    },
    "papermill": {
     "duration": 0.047608,
     "end_time": "2023-01-31T22:35:58.951402",
     "exception": false,
     "start_time": "2023-01-31T22:35:58.903794",
     "status": "completed"
    },
    "tags": []
   },
   "outputs": [
    {
     "data": {
      "text/html": [
       "<div>\n",
       "<style scoped>\n",
       "    .dataframe tbody tr th:only-of-type {\n",
       "        vertical-align: middle;\n",
       "    }\n",
       "\n",
       "    .dataframe tbody tr th {\n",
       "        vertical-align: top;\n",
       "    }\n",
       "\n",
       "    .dataframe thead th {\n",
       "        text-align: right;\n",
       "    }\n",
       "</style>\n",
       "<table border=\"1\" class=\"dataframe\">\n",
       "  <thead>\n",
       "    <tr style=\"text-align: right;\">\n",
       "      <th></th>\n",
       "      <th>Accuracy_score</th>\n",
       "      <th>KNN Classifier</th>\n",
       "      <th>Logistic Regression</th>\n",
       "      <th>DecisionTree Classifier</th>\n",
       "      <th>RandomForest Classifier</th>\n",
       "      <th>GradientBoosting Classifier</th>\n",
       "    </tr>\n",
       "  </thead>\n",
       "  <tbody>\n",
       "    <tr>\n",
       "      <th>0</th>\n",
       "      <td>Training Accuracy</td>\n",
       "      <td>0.835017</td>\n",
       "      <td>0.800224</td>\n",
       "      <td>0.786756</td>\n",
       "      <td>0.786756</td>\n",
       "      <td>0.892256</td>\n",
       "    </tr>\n",
       "    <tr>\n",
       "      <th>1</th>\n",
       "      <td>Testing Accuracy</td>\n",
       "      <td>0.679426</td>\n",
       "      <td>0.942584</td>\n",
       "      <td>1.000000</td>\n",
       "      <td>1.000000</td>\n",
       "      <td>0.892344</td>\n",
       "    </tr>\n",
       "  </tbody>\n",
       "</table>\n",
       "</div>"
      ],
      "text/plain": [
       "      Accuracy_score  KNN Classifier  Logistic Regression  \\\n",
       "0  Training Accuracy        0.835017             0.800224   \n",
       "1   Testing Accuracy        0.679426             0.942584   \n",
       "\n",
       "   DecisionTree Classifier  RandomForest Classifier  \\\n",
       "0                 0.786756                 0.786756   \n",
       "1                 1.000000                 1.000000   \n",
       "\n",
       "   GradientBoosting Classifier  \n",
       "0                     0.892256  \n",
       "1                     0.892344  "
      ]
     },
     "execution_count": 57,
     "metadata": {},
     "output_type": "execute_result"
    }
   ],
   "source": [
    "accuracy_result = [['Training Accuracy', acc_score_knn_train, acc_score_lgr_train, acc_score_dct_train, acc_score_RF_train, acc_score_GC_train],\n",
    "                     ['Testing Accuracy', acc_score_knn_test, acc_score_lgr_test, acc_score_dct_test, acc_score_RF_test, acc_score_GC_test]]\n",
    "\n",
    "report_accuracy = pd.DataFrame (accuracy_result, columns = ['Accuracy_score','KNN Classifier', \n",
    "                                          'Logistic Regression', \n",
    "                                          'DecisionTree Classifier', \n",
    "                                          'RandomForest Classifier',\n",
    "                                          'GradientBoosting Classifier'])\n",
    "\n",
    "report_accuracy"
   ]
  },
  {
   "cell_type": "code",
   "execution_count": 58,
   "id": "470d8192",
   "metadata": {
    "execution": {
     "iopub.execute_input": "2023-01-31T22:35:59.004233Z",
     "iopub.status.busy": "2023-01-31T22:35:59.002867Z",
     "iopub.status.idle": "2023-01-31T22:35:59.008371Z",
     "shell.execute_reply": "2023-01-31T22:35:59.007099Z"
    },
    "papermill": {
     "duration": 0.034581,
     "end_time": "2023-01-31T22:35:59.010814",
     "exception": false,
     "start_time": "2023-01-31T22:35:58.976233",
     "status": "completed"
    },
    "tags": []
   },
   "outputs": [],
   "source": [
    "# Even though, DecisionTree and RandomForest get the high score for testing. \n",
    "# While to prevent overfitting GradientBoosting performs better."
   ]
  },
  {
   "cell_type": "code",
   "execution_count": 59,
   "id": "1b1b03ee",
   "metadata": {
    "execution": {
     "iopub.execute_input": "2023-01-31T22:35:59.065305Z",
     "iopub.status.busy": "2023-01-31T22:35:59.064301Z",
     "iopub.status.idle": "2023-01-31T22:35:59.344693Z",
     "shell.execute_reply": "2023-01-31T22:35:59.343495Z"
    },
    "papermill": {
     "duration": 0.311554,
     "end_time": "2023-01-31T22:35:59.347416",
     "exception": false,
     "start_time": "2023-01-31T22:35:59.035862",
     "status": "completed"
    },
    "tags": []
   },
   "outputs": [],
   "source": [
    "best_model = GradientBoostingClassifier()\n",
    "best_model.fit(X_train, Y_train)\n",
    "prediction = best_model.predict(X_test)"
   ]
  },
  {
   "cell_type": "code",
   "execution_count": 60,
   "id": "a8dbf54a",
   "metadata": {
    "execution": {
     "iopub.execute_input": "2023-01-31T22:35:59.399364Z",
     "iopub.status.busy": "2023-01-31T22:35:59.398915Z",
     "iopub.status.idle": "2023-01-31T22:35:59.410863Z",
     "shell.execute_reply": "2023-01-31T22:35:59.409250Z"
    },
    "papermill": {
     "duration": 0.042109,
     "end_time": "2023-01-31T22:35:59.414409",
     "exception": false,
     "start_time": "2023-01-31T22:35:59.372300",
     "status": "completed"
    },
    "tags": []
   },
   "outputs": [
    {
     "name": "stdout",
     "output_type": "stream",
     "text": [
      "Your submission was successfully saved!\n"
     ]
    }
   ],
   "source": [
    "submission = pd.DataFrame({\n",
    "        \"PassengerId\": new_test_data[\"PassengerId\"],\n",
    "        \"Survived\": prediction})\n",
    "submission.to_csv(\"submission.csv\",index=False)\n",
    "print(\"Your submission was successfully saved!\")"
   ]
  },
  {
   "cell_type": "markdown",
   "id": "22a9eab9",
   "metadata": {
    "papermill": {
     "duration": 0.024227,
     "end_time": "2023-01-31T22:35:59.463849",
     "exception": false,
     "start_time": "2023-01-31T22:35:59.439622",
     "status": "completed"
    },
    "tags": []
   },
   "source": [
    "#For the advance, we would like to split data into validation as well. While in this submission, we will perform only train and test to evaluate the data."
   ]
  }
 ],
 "metadata": {
  "kernelspec": {
   "display_name": "Python 3",
   "language": "python",
   "name": "python3"
  },
  "language_info": {
   "codemirror_mode": {
    "name": "ipython",
    "version": 3
   },
   "file_extension": ".py",
   "mimetype": "text/x-python",
   "name": "python",
   "nbconvert_exporter": "python",
   "pygments_lexer": "ipython3",
   "version": "3.7.12"
  },
  "papermill": {
   "default_parameters": {},
   "duration": 20.455591,
   "end_time": "2023-01-31T22:36:00.312022",
   "environment_variables": {},
   "exception": null,
   "input_path": "__notebook__.ipynb",
   "output_path": "__notebook__.ipynb",
   "parameters": {},
   "start_time": "2023-01-31T22:35:39.856431",
   "version": "2.3.4"
  }
 },
 "nbformat": 4,
 "nbformat_minor": 5
}
